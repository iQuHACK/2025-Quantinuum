{
 "cells": [
  {
   "cell_type": "markdown",
   "metadata": {},
   "source": [
    "# Hamiltonian Simulation\n",
    "\n",
    "In this part of the challenge we study the evolution of closed quantum systems, i.e. systems that are described by a Hamiltonian operator $H$.\n",
    "One important aspect of this is the so-called Trotterization of the time evolution circuit, which we will explain in more detail below.\n",
    "\n",
    "Useful literature:\n",
    "- [1] A. Montanaro, Quantum Computation, Lecture notes, Chapter 7, https://people.maths.bris.ac.uk/~csxam/teaching/qc2020/lecturenotes.pdf \n",
    "- [2] T. Prosen, \"Exact nonequilibrium steady state of a strongly driven open XXZ chain\", arXiv:1106.2978, https://arxiv.org/abs/1106.2978 (2011)\n",
    "- [3] A. M. Childs et al., \"A Theory of Trotter Error\", https://arxiv.org/abs/1912.08854 (2021)\n",
    "- [4] Qiskit Docs, https://docs.quantum.ibm.com/api/qiskit/qiskit.synthesis.SuzukiTrotter\n",
    "- [5] Quantinuum Docs, https://docs.quantinuum.com/h-series/trainings/getting_started/pytket_quantinuum/Quantinuum_native_gate_compilation.html"
   ]
  },
  {
   "cell_type": "code",
   "execution_count": 1,
   "metadata": {},
   "outputs": [],
   "source": [
    "# configure some visualisations\n",
    "\n",
    "from pytket.circuit.display import get_circuit_renderer\n",
    "\n",
    "circuit_renderer = get_circuit_renderer()\n",
    "\n",
    "circuit_renderer.set_render_options(zx_style=False)\n",
    "circuit_renderer.set_render_options(crop_params=False)\n",
    "circuit_renderer.save_render_options()"
   ]
  },
  {
   "cell_type": "markdown",
   "metadata": {},
   "source": [
    "## Background"
   ]
  },
  {
   "cell_type": "markdown",
   "metadata": {},
   "source": [
    "##### Time evolution\n",
    "\n",
    "Quantum computers offer the potential to speedup simulations of systems in which quantum mechanical effects play a significant role.\n",
    "\n",
    "In quantum mechanics, the evolution of a system is governed by the Hamiltonian $H$. This is a Hermitian operator whose eigenvalues give the energy spectrum of the system. In what follows we will assume that a Hamiltonian can be represented as a ($2^N \\times 2^N$) matrix where $N$ is the number of qubits.\n",
    "\n",
    "The evolution of a pure quantum state is described by the Schrödinger equation\n",
    "\n",
    "$$\n",
    " i \\hbar \\frac{d}{dt} | \\psi(t)\\rangle = H |\\psi(t)\\rangle\n",
    "$$\n",
    "We wet $\\hbar = 1$ in the following.\n",
    "\n",
    "In general $H$ could be time dependent but we will not consider this case for now.\n",
    "\n",
    "\n",
    "It can be shown that the solution to this equation is \n",
    "\n",
    "$$\n",
    "|\\psi(t)\\rangle = e^{-i H t} |\\psi(0)\\rangle = U(t) |\\psi(0)\\rangle\\,, \\quad U(t) := e^{-i H t}\n",
    "$$\n",
    "\n",
    "We call the operator $U(t)$ the unitary time evolution operator.\n",
    "\n",
    "Observe that we are taking the exponential of the Hamiltonian matrix $H$. We can make sense of this using the series expansion of the exponential function.\n",
    "\n",
    "$$\n",
    "e^A = \\sum_{k=0}^\\infty \\frac{A^k}{k!}\\,.\n",
    "$$\n",
    "\n",
    "Now in order to simulate the evolution of a Hamiltonian $H$ on a quantum computer we need to express the time evolution operator in terms of elementary quantum gates.\n",
    "\n",
    "##### Decompososing Hamiltonians into Pauli operators\n",
    "\n",
    "Towards this goal, it is often useful to express $H$ as a linear combination of Pauli strings.\n",
    "$$\n",
    "H = \\sum_{j = 0}^{2^N -1} \\alpha_j P_j\\,, \\quad \\alpha_j \\in \\mathbb{R}\n",
    "$$\n",
    "Here each Pauli string $P_j$ is a tensor product of $N$ Pauli operators\n",
    "$$\n",
    "P_j = \\bigotimes_{j=0}^N \\sigma_j\\,, \\quad \\sigma_j \\in \\{I, X, Y, Z\\} \\,.\n",
    "$$\n",
    "The operators $P_j$ form a basis for all matrices of dimension $(2^N \\times 2^N)$. This means that any $N$ qubit operator can be expressed as a linear combination of Pauli strings $P_j$ with coefficients $\\alpha_j$.\n",
    "\n",
    "The $X, Y \\, \\text{and} \\, Z$ operators have the usual definitions\n",
    "$$\n",
    "X = \n",
    "\\begin{pmatrix}\n",
    "0 & 1 \\\\\n",
    "1 & 0\n",
    "\\end{pmatrix}\\,, \\quad Y = \n",
    "\\begin{pmatrix}\n",
    "0 & -i \\\\\n",
    "i & 0\n",
    "\\end{pmatrix}\\,, \\quad Z = \n",
    "\\begin{pmatrix}\n",
    "1 & 0 \\\\\n",
    "0 & -1\n",
    "\\end{pmatrix}\\,, \\quad\n",
    "I = \n",
    "\\begin{pmatrix}\n",
    "1 & 0 \\\\\n",
    "0 & 1\n",
    "\\end{pmatrix}\n",
    "$$\n",
    "\n",
    "Note that in general the terms of $H$, i.e. the different Pauli strings, do not commute with each other. This means that their commutator\n",
    "$$\n",
    "[P_i , P_j] \\coloneqq P_iP_j - P_jP_i \\neq 0\n",
    "$$\n",
    "is not zero. If for any two operators $A, B$ we have $[A, B] \\coloneqq AB - BA = 0$, both operators \"commute\", i.e. $AB = BA$.\n",
    "For commuting operators $A, B$, we have $e^{-it(A + B)} = e^{-itA}e^{-itB}$, i.e. the exponential factorizes. For Pauli strings $P_i$, each $e^{-itP_i}$ can be directly implemented as a quantum gate (as we see below), thus for Hamiltonians build from commuting Pauli strings, we have a straight-forward recipe to construct the time evolution operator $e^{-itH}$."
   ]
  },
  {
   "cell_type": "markdown",
   "metadata": {},
   "source": [
    "## Example: The XXZ Heisenberg model\n",
    "\n",
    "Now let's consider a concrete example of a Hamiltonian. We can start with the $XXZ$ model.\n",
    "$$\n",
    "H_{XXZ} = \\sum_{k=1}^{N-1} X^{(k)} X^{(k+1)} + Y^{(k)}  Y^{(k+1)} + \\Delta (Z^{(k)} Z^{(k+1)} ) \n",
    "$$\n",
    "with $\\Delta \\in \\mathbb{R}$. Here $A^{(k)} = I \\otimes \\cdots \\otimes I \\otimes A \\otimes I \\otimes \\cdots \\otimes I$, where $A \\in \\lbrace X, Y, Z\\rbrace$ is inserted on the $k$-th position, i.e. it is acting on the $k$-th qubits. Identities $I$ mean that no operations are performed on those qubits.\n",
    "\n",
    "\n",
    "This model describes a chain of $N$ qubits (sometimes also called spins), where each pair of neighboring spins $(i, i+1)$ interacts through the terms $XX$, $YY$ and $ZZ$.\n",
    "\n"
   ]
  },
  {
   "cell_type": "markdown",
   "metadata": {},
   "source": [
    "\n",
    "In the following we give an example how to implement this Hamiltonian in pytket.\n",
    "\n",
    "[See also [2], which will become important for the second part of this challenge on Lindblad simulation. They are using a slightly different form of the Hamiltonian, given below their Eq. (1). Show that this can be recast into the form given above.]"
   ]
  },
  {
   "cell_type": "markdown",
   "metadata": {},
   "source": [
    "With `._dict` we obtain a nice overview of all the Pauli strings $P_i$ and coefficients $\\alpha_i$."
   ]
  },
  {
   "cell_type": "code",
   "execution_count": 2,
   "metadata": {},
   "outputs": [],
   "source": [
    "from pytket.utils import QubitPauliOperator\n",
    "from pytket.pauli import Pauli, QubitPauliString\n",
    "import networkx as nx\n",
    "from pytket.circuit import Qubit\n",
    "\n",
    "def get_xxz_chain_hamiltonian(n_qubits: int, Delta_ZZ: float) -> QubitPauliOperator:\n",
    "    sites = nx.path_graph(n_qubits)\n",
    "    qpo_dict = {}\n",
    "    for e in sites.edges:\n",
    "        zz_term = QubitPauliString([Qubit(e[0]), Qubit(e[1])], [Pauli.Z, Pauli.Z])\n",
    "        xx_term = QubitPauliString([Qubit(e[0]), Qubit(e[1])], [Pauli.X, Pauli.X])\n",
    "        yy_term = QubitPauliString([Qubit(e[0]), Qubit(e[1])], [Pauli.Y, Pauli.Y])\n",
    "        qpo_dict[zz_term] = Delta_ZZ\n",
    "        qpo_dict[xx_term] = 1.0\n",
    "        qpo_dict[yy_term] = 1.0\n",
    "\n",
    "    return QubitPauliOperator(qpo_dict)"
   ]
  },
  {
   "cell_type": "code",
   "execution_count": 3,
   "metadata": {},
   "outputs": [],
   "source": [
    "n_qubits = 5\n",
    "Delta_ZZ = 1.72\n",
    "Delta_ZZ = 0.5\n",
    "\n",
    "xxz_ham = get_xxz_chain_hamiltonian(n_qubits=n_qubits, Delta_ZZ=Delta_ZZ)"
   ]
  },
  {
   "cell_type": "code",
   "execution_count": 4,
   "metadata": {},
   "outputs": [
    {
     "data": {
      "text/plain": [
       "{(Zq[0], Zq[1]): 0.500000000000000,\n",
       " (Xq[0], Xq[1]): 1.00000000000000,\n",
       " (Yq[0], Yq[1]): 1.00000000000000,\n",
       " (Zq[1], Zq[2]): 0.500000000000000,\n",
       " (Xq[1], Xq[2]): 1.00000000000000,\n",
       " (Yq[1], Yq[2]): 1.00000000000000,\n",
       " (Zq[2], Zq[3]): 0.500000000000000,\n",
       " (Xq[2], Xq[3]): 1.00000000000000,\n",
       " (Yq[2], Yq[3]): 1.00000000000000,\n",
       " (Zq[3], Zq[4]): 0.500000000000000,\n",
       " (Xq[3], Xq[4]): 1.00000000000000,\n",
       " (Yq[3], Yq[4]): 1.00000000000000}"
      ]
     },
     "execution_count": 4,
     "metadata": {},
     "output_type": "execute_result"
    }
   ],
   "source": [
    "xxz_ham._dict"
   ]
  },
  {
   "cell_type": "markdown",
   "metadata": {},
   "source": [
    "You can get the numpy or scipy matrix representations of the QubitPauliOperator with "
   ]
  },
  {
   "cell_type": "code",
   "execution_count": 5,
   "metadata": {},
   "outputs": [
    {
     "data": {
      "text/plain": [
       "(32, 32)"
      ]
     },
     "execution_count": 5,
     "metadata": {},
     "output_type": "execute_result"
    }
   ],
   "source": [
    "xxz_ham_matrix = xxz_ham.to_sparse_matrix(qubits=[Qubit(i) for i in range(n_qubits)]).todense()\n",
    "xxz_ham_matrix.shape"
   ]
  },
  {
   "cell_type": "markdown",
   "metadata": {},
   "source": [
    "Now we want to synthesise a circuit to implement the time evolution operator for $H_{XXZ}$\n",
    "$$\n",
    "U(t) = e^{-it \\sum_{k=1}^{N-1} X^{(k)} X^{(k+1)} + Y^{(k)}  Y^{(k+1)} + \\Delta (Z^{(k)} Z^{(k+1)} ) }\n",
    "$$\n",
    "\n",
    "In fact, the different terms in the XXZ Hamiltonian above commute with each other, which means that\n",
    "$$\n",
    "e^{-itH_{XXZ}} = \\prod_{k=1}^{N-1} e^{-it X^{(k)} X^{(k+1)}}  e^{-it Y^{(k)}  Y^{(k+1)}}  e^{-it \\Delta \\big( Z^{(k)} Z^{(k+1)} \\big)} .\n",
    "$$\n",
    "Each of the exponentials can be implemented as a quantum circuit and we obtain the full time evolution circuit by concatenating all of these circuits.\n",
    "\n",
    "First lets look at a circuit which simulates the evolution $e^{-it \\Delta Z^{(1)} Z^{(2)}} $.\n",
    "We can show that the circuit below does the job."
   ]
  },
  {
   "cell_type": "code",
   "execution_count": 6,
   "metadata": {},
   "outputs": [
    {
     "data": {
      "text/html": [
       "\n",
       "\n",
       "\n",
       "\n",
       "\n",
       "\n",
       "<div style=\"resize: vertical; overflow: auto; height: 400px; display: block\">\n",
       "    <iframe srcdoc=\"\n",
       "&lt;!DOCTYPE html&gt;\n",
       "&lt;html lang=&#34;en&#34;&gt;\n",
       "&lt;head&gt;\n",
       "    &lt;meta charset=&#34;UTF-8&#34;&gt;\n",
       "    &lt;!-- Download Vue 3--&gt;\n",
       "&lt;script type=&#34;application/javascript&#34; src=&#34;https://cdn.jsdelivr.net/npm/vue@3&#34;&gt;&lt;/script&gt;\n",
       "&lt;!-- Download Circuit Renderer with styles --&gt;\n",
       "&lt;script type=&#34;application/javascript&#34; src=&#34;https://unpkg.com/pytket-circuit-renderer@0.10/dist/pytket-circuit-renderer.umd.js&#34;&gt;&lt;/script&gt;\n",
       "&lt;link rel=&#34;stylesheet&#34; href=&#34;https://unpkg.com/pytket-circuit-renderer@0.10/dist/pytket-circuit-renderer.css&#34;&gt;\n",
       "&lt;/head&gt;\n",
       "&lt;body&gt;\n",
       "\n",
       "\n",
       "    &lt;div id=&#34;circuit-display-vue-container-8d0c5817-b159-454e-8f8d-c622eacd4986&#34; class=&#34;pytket-circuit-display-container&#34;&gt;\n",
       "        &lt;div style=&#34;display: none&#34;&gt;\n",
       "            &lt;div id=&#34;circuit-json-to-display&#34;&gt;{&#34;bits&#34;: [], &#34;commands&#34;: [{&#34;args&#34;: [[&#34;q&#34;, [0]], [&#34;q&#34;, [1]]], &#34;op&#34;: {&#34;type&#34;: &#34;CX&#34;}}, {&#34;args&#34;: [[&#34;q&#34;, [1]]], &#34;op&#34;: {&#34;params&#34;: [&#34;2*t*Delta&#34;], &#34;type&#34;: &#34;Rz&#34;}}, {&#34;args&#34;: [[&#34;q&#34;, [0]], [&#34;q&#34;, [1]]], &#34;op&#34;: {&#34;type&#34;: &#34;CX&#34;}}], &#34;created_qubits&#34;: [], &#34;discarded_qubits&#34;: [], &#34;implicit_permutation&#34;: [[[&#34;q&#34;, [0]], [&#34;q&#34;, [0]]], [[&#34;q&#34;, [1]], [&#34;q&#34;, [1]]]], &#34;phase&#34;: &#34;0.0&#34;, &#34;qubits&#34;: [[&#34;q&#34;, [0]], [&#34;q&#34;, [1]]]}&lt;/div&gt;\n",
       "        &lt;/div&gt;\n",
       "        &lt;circuit-display-container\n",
       "                :circuit-element-str=&#34;&#39;#circuit-json-to-display&#39;&#34;\n",
       "                :init-render-options=&#34;initRenderOptions&#34;\n",
       "                view-format=&#34;None&#34;\n",
       "        &gt;&lt;/circuit-display-container&gt;\n",
       "    &lt;/div&gt;\n",
       "    &lt;script type=&#34;application/javascript&#34;&gt;\n",
       "      const circuitRendererUid = &#34;8d0c5817-b159-454e-8f8d-c622eacd4986&#34;;\n",
       "      const displayOptions = JSON.parse(&#39;{&#34;zxStyle&#34;: false, &#34;cropParams&#34;: false}&#39;);\n",
       "\n",
       "      // Script to initialise the circuit renderer app\n",
       "\n",
       "const { createApp } = Vue;\n",
       "const circuitDisplayContainer = window[&#34;pytket-circuit-renderer&#34;].default;\n",
       "// Init variables to be shared between circuit display instances\n",
       "if (typeof window.pytketCircuitDisplays === &#34;undefined&#34;) {\n",
       "    window.pytketCircuitDisplays = {};\n",
       "}\n",
       "// Create the root Vue component\n",
       "const app = createApp({\n",
       "    delimiters: [&#39;[[#&#39;, &#39;#]]&#39;],\n",
       "    components: { circuitDisplayContainer },\n",
       "    data () {\n",
       "      return {\n",
       "        initRenderOptions: displayOptions,\n",
       "      }\n",
       "    }\n",
       "})\n",
       "app.config.unwrapInjectedRef = true;\n",
       "app.mount(&#34;#circuit-display-vue-container-&#34;+circuitRendererUid);\n",
       "window.pytketCircuitDisplays[circuitRendererUid] = app;\n",
       "    &lt;/script&gt;\n",
       "\n",
       "\n",
       "\n",
       "&lt;/body&gt;\n",
       "&lt;/html&gt;\n",
       "\"\n",
       "            width=\"100%\" height=\"100%\"\n",
       "            style=\"border: none; outline: none; overflow: auto\"></iframe>\n",
       "</div>\n",
       "\n"
      ],
      "text/plain": [
       "<IPython.core.display.HTML object>"
      ]
     },
     "metadata": {},
     "output_type": "display_data"
    }
   ],
   "source": [
    "from pytket import Circuit\n",
    "from sympy import symbols\n",
    "from pytket.circuit.display import render_circuit_jupyter as draw\n",
    "\n",
    "delta, t = symbols(\"Delta, t\")\n",
    "\n",
    "circ = Circuit(2)\n",
    "circ.CX(0, 1)\n",
    "circ.Rz(2*delta * t, 1)\n",
    "circ.CX(0, 1)\n",
    "\n",
    "draw(circ)"
   ]
  },
  {
   "cell_type": "markdown",
   "metadata": {},
   "source": [
    "Similarly for a term like $e^{-it \\Delta Z^{(1)} Z^{(2)} Z^{(3)}} $ the three qubit circuit works\n"
   ]
  },
  {
   "cell_type": "code",
   "execution_count": 7,
   "metadata": {},
   "outputs": [
    {
     "data": {
      "text/html": [
       "\n",
       "\n",
       "\n",
       "\n",
       "\n",
       "\n",
       "<div style=\"resize: vertical; overflow: auto; height: 400px; display: block\">\n",
       "    <iframe srcdoc=\"\n",
       "&lt;!DOCTYPE html&gt;\n",
       "&lt;html lang=&#34;en&#34;&gt;\n",
       "&lt;head&gt;\n",
       "    &lt;meta charset=&#34;UTF-8&#34;&gt;\n",
       "    &lt;!-- Download Vue 3--&gt;\n",
       "&lt;script type=&#34;application/javascript&#34; src=&#34;https://cdn.jsdelivr.net/npm/vue@3&#34;&gt;&lt;/script&gt;\n",
       "&lt;!-- Download Circuit Renderer with styles --&gt;\n",
       "&lt;script type=&#34;application/javascript&#34; src=&#34;https://unpkg.com/pytket-circuit-renderer@0.10/dist/pytket-circuit-renderer.umd.js&#34;&gt;&lt;/script&gt;\n",
       "&lt;link rel=&#34;stylesheet&#34; href=&#34;https://unpkg.com/pytket-circuit-renderer@0.10/dist/pytket-circuit-renderer.css&#34;&gt;\n",
       "&lt;/head&gt;\n",
       "&lt;body&gt;\n",
       "\n",
       "\n",
<<<<<<< Updated upstream
       "    &lt;div id=&#34;circuit-display-vue-container-8f5e93fa-dd3e-4231-a4b3-6497e287d18c&#34; class=&#34;pytket-circuit-display-container&#34;&gt;\n",
=======
       "    &lt;div id=&#34;circuit-display-vue-container-2e6be67d-a0fe-4054-ab47-0458eaadb29b&#34; class=&#34;pytket-circuit-display-container&#34;&gt;\n",
>>>>>>> Stashed changes
       "        &lt;div style=&#34;display: none&#34;&gt;\n",
       "            &lt;div id=&#34;circuit-json-to-display&#34;&gt;{&#34;bits&#34;: [], &#34;commands&#34;: [{&#34;args&#34;: [[&#34;q&#34;, [0]], [&#34;q&#34;, [1]]], &#34;op&#34;: {&#34;type&#34;: &#34;CX&#34;}}, {&#34;args&#34;: [[&#34;q&#34;, [1]], [&#34;q&#34;, [2]]], &#34;op&#34;: {&#34;type&#34;: &#34;CX&#34;}}, {&#34;args&#34;: [[&#34;q&#34;, [2]]], &#34;op&#34;: {&#34;params&#34;: [&#34;2*t*Delta&#34;], &#34;type&#34;: &#34;Rz&#34;}}, {&#34;args&#34;: [[&#34;q&#34;, [1]], [&#34;q&#34;, [2]]], &#34;op&#34;: {&#34;type&#34;: &#34;CX&#34;}}, {&#34;args&#34;: [[&#34;q&#34;, [0]], [&#34;q&#34;, [1]]], &#34;op&#34;: {&#34;type&#34;: &#34;CX&#34;}}], &#34;created_qubits&#34;: [], &#34;discarded_qubits&#34;: [], &#34;implicit_permutation&#34;: [[[&#34;q&#34;, [0]], [&#34;q&#34;, [0]]], [[&#34;q&#34;, [1]], [&#34;q&#34;, [1]]], [[&#34;q&#34;, [2]], [&#34;q&#34;, [2]]]], &#34;phase&#34;: &#34;0.0&#34;, &#34;qubits&#34;: [[&#34;q&#34;, [0]], [&#34;q&#34;, [1]], [&#34;q&#34;, [2]]]}&lt;/div&gt;\n",
       "        &lt;/div&gt;\n",
       "        &lt;circuit-display-container\n",
       "                :circuit-element-str=&#34;&#39;#circuit-json-to-display&#39;&#34;\n",
       "                :init-render-options=&#34;initRenderOptions&#34;\n",
       "                view-format=&#34;None&#34;\n",
       "        &gt;&lt;/circuit-display-container&gt;\n",
       "    &lt;/div&gt;\n",
       "    &lt;script type=&#34;application/javascript&#34;&gt;\n",
<<<<<<< Updated upstream
       "      const circuitRendererUid = &#34;8f5e93fa-dd3e-4231-a4b3-6497e287d18c&#34;;\n",
=======
       "      const circuitRendererUid = &#34;2e6be67d-a0fe-4054-ab47-0458eaadb29b&#34;;\n",
>>>>>>> Stashed changes
       "      const displayOptions = JSON.parse(&#39;{&#34;zxStyle&#34;: false, &#34;cropParams&#34;: false}&#39;);\n",
       "\n",
       "      // Script to initialise the circuit renderer app\n",
       "\n",
       "const { createApp } = Vue;\n",
       "const circuitDisplayContainer = window[&#34;pytket-circuit-renderer&#34;].default;\n",
       "// Init variables to be shared between circuit display instances\n",
       "if (typeof window.pytketCircuitDisplays === &#34;undefined&#34;) {\n",
       "    window.pytketCircuitDisplays = {};\n",
       "}\n",
       "// Create the root Vue component\n",
       "const app = createApp({\n",
       "    delimiters: [&#39;[[#&#39;, &#39;#]]&#39;],\n",
       "    components: { circuitDisplayContainer },\n",
       "    data () {\n",
       "      return {\n",
       "        initRenderOptions: displayOptions,\n",
       "      }\n",
       "    }\n",
       "})\n",
       "app.config.unwrapInjectedRef = true;\n",
       "app.mount(&#34;#circuit-display-vue-container-&#34;+circuitRendererUid);\n",
       "window.pytketCircuitDisplays[circuitRendererUid] = app;\n",
       "    &lt;/script&gt;\n",
       "\n",
       "\n",
       "\n",
       "&lt;/body&gt;\n",
       "&lt;/html&gt;\n",
       "\"\n",
       "            width=\"100%\" height=\"100%\"\n",
       "            style=\"border: none; outline: none; overflow: auto\"></iframe>\n",
       "</div>\n",
       "\n"
      ],
      "text/plain": [
       "<IPython.core.display.HTML object>"
      ]
     },
     "metadata": {},
     "output_type": "display_data"
    }
   ],
   "source": [
    "circ1 = Circuit(3)\n",
    "circ1.CX(0, 1)\n",
    "circ1.CX(1, 2)\n",
    "circ1.Rz(2*delta * t, 2)\n",
    "circ1.CX(1, 2)\n",
    "circ1.CX(0, 1)\n",
    "\n",
    "draw(circ1)"
   ]
  },
  {
   "cell_type": "markdown",
   "metadata": {},
   "source": [
    "Here, $\\mathrm{Rz}$ gate is defined as \n",
    "$$\n",
    "\\mathrm{Rz}(\\alpha) = e^{-\\frac12 i \\pi \\alpha Z} = \\left[\n",
    "    \\begin{array}{cc} e^{-\\frac12 i \\pi\\alpha} & 0 \\\\ 0 & e^{\\frac12 i\n",
    "    \\pi\\alpha} \\end{array} \\right] \\,.\n",
    "$$"
   ]
  },
  {
   "cell_type": "markdown",
   "metadata": {},
   "source": [
    "### Task 1: Implement the time evolution under the XXZ Hamiltonian.\n",
    "\n",
    "We can easily generate the time evolution under the XXZ Hamiltonian via\n",
    "$$\n",
    "e^{-itH_{XXZ}} = \\prod_{k=1}^{N-1} e^{-it X^{(k)}s X^{(k+1)}}  e^{-it Y^{(k)} Y^{(k+1)}}  e^{-it \\Delta \\big( Z^{(k)} Z^{(k+1)} \\big)} .\n",
    "$$\n",
    "\n",
    "For example, we can use pytket's build-in function `gen_term_sequence_circuit`. Note, you will have to multiply the Hamiltonian (a `QubitPauliOperator`) with the evolution time $t$ to perform the correct time evolution.\n",
    "\n",
    "- Implement the time evolution circuit under $H_{XXZ}$ for a given target time $t$.\n",
    "- Draw the circuit. In pytket you might want to use `DecomposeBoxes()` to visualize all the single- and two-qubit gates.\n",
    "- Explore different ways how to implement the circuit (see the hints below).\n",
    "- Use an empty circuit to initialize the time evolution circuit. I.e. our initial state is $\\ket{\\psi} = \\ket{0}^{\\otimes N}$.\n",
    "\n",
    "Hints:\n",
    "- Study the commutator relation between the two terms of $K_i$. What does this imply?\n",
    "- Alternatively, the two qubit gates $e^{-\\alpha X^{(i)} X^{(j)}}$ and $e^{-\\alpha Y^{(i)} Y^{(j)}}$ can be implemented in pytket via `XXPhase` and `YYPhase`.\n",
    "- Or you can also use pytket's `TK2` gate which implements and arbitrary angle SU(4) gate [x]."
   ]
  },
  {
   "cell_type": "code",
   "execution_count": 8,
   "metadata": {},
   "outputs": [
    {
     "data": {
      "text/html": [
       "\n",
       "\n",
       "\n",
       "\n",
       "\n",
       "\n",
       "<div style=\"resize: vertical; overflow: auto; height: 400px; display: block\">\n",
       "    <iframe srcdoc=\"\n",
       "&lt;!DOCTYPE html&gt;\n",
       "&lt;html lang=&#34;en&#34;&gt;\n",
       "&lt;head&gt;\n",
       "    &lt;meta charset=&#34;UTF-8&#34;&gt;\n",
       "    &lt;!-- Download Vue 3--&gt;\n",
       "&lt;script type=&#34;application/javascript&#34; src=&#34;https://cdn.jsdelivr.net/npm/vue@3&#34;&gt;&lt;/script&gt;\n",
       "&lt;!-- Download Circuit Renderer with styles --&gt;\n",
       "&lt;script type=&#34;application/javascript&#34; src=&#34;https://unpkg.com/pytket-circuit-renderer@0.10/dist/pytket-circuit-renderer.umd.js&#34;&gt;&lt;/script&gt;\n",
       "&lt;link rel=&#34;stylesheet&#34; href=&#34;https://unpkg.com/pytket-circuit-renderer@0.10/dist/pytket-circuit-renderer.css&#34;&gt;\n",
       "&lt;/head&gt;\n",
       "&lt;body&gt;\n",
       "\n",
       "\n",
       "    &lt;div id=&#34;circuit-display-vue-container-ae9bfbff-5845-4d2c-ae60-e4d353a86416&#34; class=&#34;pytket-circuit-display-container&#34;&gt;\n",
       "        &lt;div style=&#34;display: none&#34;&gt;\n",
       "            &lt;div id=&#34;circuit-json-to-display&#34;&gt;{&#34;bits&#34;: [], &#34;commands&#34;: [{&#34;args&#34;: [[&#34;q&#34;, [1]], [&#34;q&#34;, [0]]], &#34;op&#34;: {&#34;type&#34;: &#34;CX&#34;}}, {&#34;args&#34;: [[&#34;q&#34;, [3]], [&#34;q&#34;, [2]]], &#34;op&#34;: {&#34;type&#34;: &#34;CX&#34;}}, {&#34;args&#34;: [[&#34;q&#34;, [0]]], &#34;op&#34;: {&#34;params&#34;: [&#34;0.318309886183791*t&#34;], &#34;type&#34;: &#34;Rz&#34;}}, {&#34;args&#34;: [[&#34;q&#34;, [2]]], &#34;op&#34;: {&#34;params&#34;: [&#34;0.318309886183791*t&#34;], &#34;type&#34;: &#34;Rz&#34;}}, {&#34;args&#34;: [[&#34;q&#34;, [1]], [&#34;q&#34;, [0]]], &#34;op&#34;: {&#34;type&#34;: &#34;CX&#34;}}, {&#34;args&#34;: [[&#34;q&#34;, [3]], [&#34;q&#34;, [2]]], &#34;op&#34;: {&#34;type&#34;: &#34;CX&#34;}}, {&#34;args&#34;: [[&#34;q&#34;, [0]]], &#34;op&#34;: {&#34;type&#34;: &#34;H&#34;}}, {&#34;args&#34;: [[&#34;q&#34;, [1]]], &#34;op&#34;: {&#34;type&#34;: &#34;H&#34;}}, {&#34;args&#34;: [[&#34;q&#34;, [2]]], &#34;op&#34;: {&#34;type&#34;: &#34;H&#34;}}, {&#34;args&#34;: [[&#34;q&#34;, [3]]], &#34;op&#34;: {&#34;type&#34;: &#34;H&#34;}}, {&#34;args&#34;: [[&#34;q&#34;, [1]], [&#34;q&#34;, [0]]], &#34;op&#34;: {&#34;type&#34;: &#34;CX&#34;}}, {&#34;args&#34;: [[&#34;q&#34;, [3]], [&#34;q&#34;, [2]]], &#34;op&#34;: {&#34;type&#34;: &#34;CX&#34;}}, {&#34;args&#34;: [[&#34;q&#34;, [0]]], &#34;op&#34;: {&#34;params&#34;: [&#34;0.636619772367581*t&#34;], &#34;type&#34;: &#34;Rz&#34;}}, {&#34;args&#34;: [[&#34;q&#34;, [2]]], &#34;op&#34;: {&#34;params&#34;: [&#34;0.636619772367581*t&#34;], &#34;type&#34;: &#34;Rz&#34;}}, {&#34;args&#34;: [[&#34;q&#34;, [1]], [&#34;q&#34;, [0]]], &#34;op&#34;: {&#34;type&#34;: &#34;CX&#34;}}, {&#34;args&#34;: [[&#34;q&#34;, [3]], [&#34;q&#34;, [2]]], &#34;op&#34;: {&#34;type&#34;: &#34;CX&#34;}}, {&#34;args&#34;: [[&#34;q&#34;, [0]]], &#34;op&#34;: {&#34;type&#34;: &#34;H&#34;}}, {&#34;args&#34;: [[&#34;q&#34;, [1]]], &#34;op&#34;: {&#34;type&#34;: &#34;H&#34;}}, {&#34;args&#34;: [[&#34;q&#34;, [2]]], &#34;op&#34;: {&#34;type&#34;: &#34;H&#34;}}, {&#34;args&#34;: [[&#34;q&#34;, [3]]], &#34;op&#34;: {&#34;type&#34;: &#34;H&#34;}}, {&#34;args&#34;: [[&#34;q&#34;, [0]]], &#34;op&#34;: {&#34;type&#34;: &#34;V&#34;}}, {&#34;args&#34;: [[&#34;q&#34;, [1]]], &#34;op&#34;: {&#34;type&#34;: &#34;V&#34;}}, {&#34;args&#34;: [[&#34;q&#34;, [2]]], &#34;op&#34;: {&#34;type&#34;: &#34;V&#34;}}, {&#34;args&#34;: [[&#34;q&#34;, [3]]], &#34;op&#34;: {&#34;type&#34;: &#34;V&#34;}}, {&#34;args&#34;: [[&#34;q&#34;, [1]], [&#34;q&#34;, [0]]], &#34;op&#34;: {&#34;type&#34;: &#34;CX&#34;}}, {&#34;args&#34;: [[&#34;q&#34;, [3]], [&#34;q&#34;, [2]]], &#34;op&#34;: {&#34;type&#34;: &#34;CX&#34;}}, {&#34;args&#34;: [[&#34;q&#34;, [0]]], &#34;op&#34;: {&#34;params&#34;: [&#34;0.636619772367581*t&#34;], &#34;type&#34;: &#34;Rz&#34;}}, {&#34;args&#34;: [[&#34;q&#34;, [2]]], &#34;op&#34;: {&#34;params&#34;: [&#34;0.636619772367581*t&#34;], &#34;type&#34;: &#34;Rz&#34;}}, {&#34;args&#34;: [[&#34;q&#34;, [1]], [&#34;q&#34;, [0]]], &#34;op&#34;: {&#34;type&#34;: &#34;CX&#34;}}, {&#34;args&#34;: [[&#34;q&#34;, [3]], [&#34;q&#34;, [2]]], &#34;op&#34;: {&#34;type&#34;: &#34;CX&#34;}}, {&#34;args&#34;: [[&#34;q&#34;, [0]]], &#34;op&#34;: {&#34;type&#34;: &#34;Vdg&#34;}}, {&#34;args&#34;: [[&#34;q&#34;, [1]]], &#34;op&#34;: {&#34;type&#34;: &#34;Vdg&#34;}}, {&#34;args&#34;: [[&#34;q&#34;, [2]]], &#34;op&#34;: {&#34;type&#34;: &#34;Vdg&#34;}}, {&#34;args&#34;: [[&#34;q&#34;, [3]]], &#34;op&#34;: {&#34;type&#34;: &#34;Vdg&#34;}}, {&#34;args&#34;: [[&#34;q&#34;, [2]], [&#34;q&#34;, [1]]], &#34;op&#34;: {&#34;type&#34;: &#34;CX&#34;}}, {&#34;args&#34;: [[&#34;q&#34;, [4]], [&#34;q&#34;, [3]]], &#34;op&#34;: {&#34;type&#34;: &#34;CX&#34;}}, {&#34;args&#34;: [[&#34;q&#34;, [1]]], &#34;op&#34;: {&#34;params&#34;: [&#34;0.318309886183791*t&#34;], &#34;type&#34;: &#34;Rz&#34;}}, {&#34;args&#34;: [[&#34;q&#34;, [3]]], &#34;op&#34;: {&#34;params&#34;: [&#34;0.318309886183791*t&#34;], &#34;type&#34;: &#34;Rz&#34;}}, {&#34;args&#34;: [[&#34;q&#34;, [2]], [&#34;q&#34;, [1]]], &#34;op&#34;: {&#34;type&#34;: &#34;CX&#34;}}, {&#34;args&#34;: [[&#34;q&#34;, [4]], [&#34;q&#34;, [3]]], &#34;op&#34;: {&#34;type&#34;: &#34;CX&#34;}}, {&#34;args&#34;: [[&#34;q&#34;, [1]]], &#34;op&#34;: {&#34;type&#34;: &#34;H&#34;}}, {&#34;args&#34;: [[&#34;q&#34;, [2]]], &#34;op&#34;: {&#34;type&#34;: &#34;H&#34;}}, {&#34;args&#34;: [[&#34;q&#34;, [3]]], &#34;op&#34;: {&#34;type&#34;: &#34;H&#34;}}, {&#34;args&#34;: [[&#34;q&#34;, [4]]], &#34;op&#34;: {&#34;type&#34;: &#34;H&#34;}}, {&#34;args&#34;: [[&#34;q&#34;, [2]], [&#34;q&#34;, [1]]], &#34;op&#34;: {&#34;type&#34;: &#34;CX&#34;}}, {&#34;args&#34;: [[&#34;q&#34;, [4]], [&#34;q&#34;, [3]]], &#34;op&#34;: {&#34;type&#34;: &#34;CX&#34;}}, {&#34;args&#34;: [[&#34;q&#34;, [1]]], &#34;op&#34;: {&#34;params&#34;: [&#34;0.636619772367581*t&#34;], &#34;type&#34;: &#34;Rz&#34;}}, {&#34;args&#34;: [[&#34;q&#34;, [3]]], &#34;op&#34;: {&#34;params&#34;: [&#34;0.636619772367581*t&#34;], &#34;type&#34;: &#34;Rz&#34;}}, {&#34;args&#34;: [[&#34;q&#34;, [2]], [&#34;q&#34;, [1]]], &#34;op&#34;: {&#34;type&#34;: &#34;CX&#34;}}, {&#34;args&#34;: [[&#34;q&#34;, [4]], [&#34;q&#34;, [3]]], &#34;op&#34;: {&#34;type&#34;: &#34;CX&#34;}}, {&#34;args&#34;: [[&#34;q&#34;, [1]]], &#34;op&#34;: {&#34;type&#34;: &#34;H&#34;}}, {&#34;args&#34;: [[&#34;q&#34;, [2]]], &#34;op&#34;: {&#34;type&#34;: &#34;H&#34;}}, {&#34;args&#34;: [[&#34;q&#34;, [3]]], &#34;op&#34;: {&#34;type&#34;: &#34;H&#34;}}, {&#34;args&#34;: [[&#34;q&#34;, [4]]], &#34;op&#34;: {&#34;type&#34;: &#34;H&#34;}}, {&#34;args&#34;: [[&#34;q&#34;, [1]]], &#34;op&#34;: {&#34;type&#34;: &#34;V&#34;}}, {&#34;args&#34;: [[&#34;q&#34;, [2]]], &#34;op&#34;: {&#34;type&#34;: &#34;V&#34;}}, {&#34;args&#34;: [[&#34;q&#34;, [3]]], &#34;op&#34;: {&#34;type&#34;: &#34;V&#34;}}, {&#34;args&#34;: [[&#34;q&#34;, [4]]], &#34;op&#34;: {&#34;type&#34;: &#34;V&#34;}}, {&#34;args&#34;: [[&#34;q&#34;, [2]], [&#34;q&#34;, [1]]], &#34;op&#34;: {&#34;type&#34;: &#34;CX&#34;}}, {&#34;args&#34;: [[&#34;q&#34;, [4]], [&#34;q&#34;, [3]]], &#34;op&#34;: {&#34;type&#34;: &#34;CX&#34;}}, {&#34;args&#34;: [[&#34;q&#34;, [1]]], &#34;op&#34;: {&#34;params&#34;: [&#34;0.636619772367581*t&#34;], &#34;type&#34;: &#34;Rz&#34;}}, {&#34;args&#34;: [[&#34;q&#34;, [3]]], &#34;op&#34;: {&#34;params&#34;: [&#34;0.636619772367581*t&#34;], &#34;type&#34;: &#34;Rz&#34;}}, {&#34;args&#34;: [[&#34;q&#34;, [2]], [&#34;q&#34;, [1]]], &#34;op&#34;: {&#34;type&#34;: &#34;CX&#34;}}, {&#34;args&#34;: [[&#34;q&#34;, [4]], [&#34;q&#34;, [3]]], &#34;op&#34;: {&#34;type&#34;: &#34;CX&#34;}}, {&#34;args&#34;: [[&#34;q&#34;, [1]]], &#34;op&#34;: {&#34;type&#34;: &#34;Vdg&#34;}}, {&#34;args&#34;: [[&#34;q&#34;, [2]]], &#34;op&#34;: {&#34;type&#34;: &#34;Vdg&#34;}}, {&#34;args&#34;: [[&#34;q&#34;, [3]]], &#34;op&#34;: {&#34;type&#34;: &#34;Vdg&#34;}}, {&#34;args&#34;: [[&#34;q&#34;, [4]]], &#34;op&#34;: {&#34;type&#34;: &#34;Vdg&#34;}}], &#34;created_qubits&#34;: [], &#34;discarded_qubits&#34;: [], &#34;implicit_permutation&#34;: [[[&#34;q&#34;, [0]], [&#34;q&#34;, [0]]], [[&#34;q&#34;, [1]], [&#34;q&#34;, [1]]], [[&#34;q&#34;, [2]], [&#34;q&#34;, [2]]], [[&#34;q&#34;, [3]], [&#34;q&#34;, [3]]], [[&#34;q&#34;, [4]], [&#34;q&#34;, [4]]]], &#34;phase&#34;: &#34;0.0&#34;, &#34;qubits&#34;: [[&#34;q&#34;, [0]], [&#34;q&#34;, [1]], [&#34;q&#34;, [2]], [&#34;q&#34;, [3]], [&#34;q&#34;, [4]]]}&lt;/div&gt;\n",
       "        &lt;/div&gt;\n",
       "        &lt;circuit-display-container\n",
       "                :circuit-element-str=&#34;&#39;#circuit-json-to-display&#39;&#34;\n",
       "                :init-render-options=&#34;initRenderOptions&#34;\n",
       "                view-format=&#34;None&#34;\n",
       "        &gt;&lt;/circuit-display-container&gt;\n",
       "    &lt;/div&gt;\n",
       "    &lt;script type=&#34;application/javascript&#34;&gt;\n",
       "      const circuitRendererUid = &#34;ae9bfbff-5845-4d2c-ae60-e4d353a86416&#34;;\n",
       "      const displayOptions = JSON.parse(&#39;{&#34;zxStyle&#34;: false, &#34;cropParams&#34;: false}&#39;);\n",
       "\n",
       "      // Script to initialise the circuit renderer app\n",
       "\n",
       "const { createApp } = Vue;\n",
       "const circuitDisplayContainer = window[&#34;pytket-circuit-renderer&#34;].default;\n",
       "// Init variables to be shared between circuit display instances\n",
       "if (typeof window.pytketCircuitDisplays === &#34;undefined&#34;) {\n",
       "    window.pytketCircuitDisplays = {};\n",
       "}\n",
       "// Create the root Vue component\n",
       "const app = createApp({\n",
       "    delimiters: [&#39;[[#&#39;, &#39;#]]&#39;],\n",
       "    components: { circuitDisplayContainer },\n",
       "    data () {\n",
       "      return {\n",
       "        initRenderOptions: displayOptions,\n",
       "      }\n",
       "    }\n",
       "})\n",
       "app.config.unwrapInjectedRef = true;\n",
       "app.mount(&#34;#circuit-display-vue-container-&#34;+circuitRendererUid);\n",
       "window.pytketCircuitDisplays[circuitRendererUid] = app;\n",
       "    &lt;/script&gt;\n",
       "\n",
       "\n",
       "\n",
       "&lt;/body&gt;\n",
       "&lt;/html&gt;\n",
       "\"\n",
       "            width=\"100%\" height=\"100%\"\n",
       "            style=\"border: none; outline: none; overflow: auto\"></iframe>\n",
       "</div>\n",
       "\n"
      ],
      "text/plain": [
       "<IPython.core.display.HTML object>"
      ]
     },
     "metadata": {},
     "output_type": "display_data"
    }
   ],
   "source": [
    "from pytket.utils import gen_term_sequence_circuit\n",
    "from pytket.passes import DecomposeBoxes\n",
    "import numpy as np\n",
    "\n",
    "xxz_time = (2/np.pi)*t*xxz_ham\n",
    "init_circuit = Circuit(n_qubits)\n",
    "xxz_t_circuit = gen_term_sequence_circuit(xxz_time, init_circuit)\n",
    "DecomposeBoxes().apply(xxz_t_circuit)\n",
    "draw(xxz_t_circuit)"
   ]
  },
  {
   "cell_type": "markdown",
   "metadata": {
    "jp-MarkdownHeadingCollapsed": true
   },
   "source": [
    "## Overview:\n",
    "\n",
    "In the following there are two sections which can be explored independently from each other. The first is about non-commuting Hamiltonians and Trotterization. The second one is about some concrete physical examples of time evolution using quantum circuits for the XXZ Heisenberg model.\n",
    "\n",
    "Each section contains a list of tasks which you can work on. However, you can also get creative and explore other related directions or tasks which might be interesting. After working on those paths, you can of course also try to come up with interesting ideas how to combine concepts from both sections."
   ]
  },
  {
   "cell_type": "code",
   "execution_count": null,
   "metadata": {},
   "outputs": [],
   "source": []
  },
  {
   "cell_type": "markdown",
   "metadata": {},
   "source": [
    "## Section 1: Non-commuting Hamiltonians and Trotterization\n",
    "\n",
    "In this section we investigate the dependence of the Trotter error on the Trotter step size."
   ]
  },
  {
   "cell_type": "markdown",
   "metadata": {},
   "source": [
    "The XXZ Heisenberg model above has only commuting terms. In general this is not the case, and need to be more careful in implementing the time evolution under $H$.\n",
    "\n",
    "Let $A$ and $B$ be square matrices. As discussed above\n",
    "$$\n",
    "[A, B] = AB-BA = 0 \\implies e^{-i(A + B)} = e^{-iA} e^{-iB}\n",
    "$$\n",
    "\n",
    "However if the matrices $A$ and $B$ do not commute then we have an error term to deal with\n",
    "$$\n",
    "||A|| < \\delta\\,, \\quad ||B|| < \\delta \\implies e^{-i(A + B)} = e^{-iA} e^{-iB} + \\mathcal{O}(\\delta^2)\n",
    "$$\n",
    "Here $||.||$ denotes the spectral norm.\n",
    "$$\n",
    "|| A || := \\max_{|\\psi\\rangle \\neq 0} \\frac{||A|\\psi\\rangle ||}{|| \\, |\\psi\\rangle||}\n",
    "$$\n",
    "\n",
    "Now suppose we have a Hamiltonian $H$ expressed as a sum of Hermitian matrices $H_k$.\n",
    "$$\n",
    "H = \\sum_{i=1}^m H_i\n",
    "$$\n",
    "Here, the operators $H_k$ could be the weighted Pauli strings above $H_i = \\alpha_i P_i$.\n",
    "In generalt $[H_i, H_j] \\neq 0$. In this case\n",
    "$$\n",
    "e^{-i H_1 t}e^{-i H_2 t}... e^{-i H_m t} \\neq e^{-i( H_1 + ... H_m) t} \\,.\n",
    "$$\n",
    "However, one can show that for a given target accuracy $\\epsilon$, we can find a (probably large) $p \\in \\mathbb{N}$, such that the distance between both time evolution operators is small,\n",
    "$$\n",
    "|| \\big( e^{-i H_1 t/p}e^{-i H_2 t /p}... e^{-i H_m t/p}\\big)^p - e^{-i( H_1 + ... H_m) t} || \\leq \\epsilon \\,.\n",
    "$$\n",
    "\n",
    "If the $H_i$ are, as assumed above, Pauli strings, we can implement $e^{-i H_1 t/p}e^{-i H_2 t /p}... e^{-i H_m t/p}$ as a quantum circuit and concatenate it $p$ times to obtain a $\\epsilon$-close approximation of the target evolution $e^{-i( H_1 + ... H_m) t}$. The factorization formula $e^{-i H_1 t/p}e^{-i H_2 t /p}... e^{-i H_m t/p}$ is called \"first-order Trotterization\" of $H$. There are higher order Trotterization formulas which are more accurate but also more difficult to implement. We will discuss a few of them below."
   ]
  },
  {
   "cell_type": "markdown",
   "metadata": {},
   "source": [
    "### Task 1: Implement the transverse field Ising model."
   ]
  },
  {
   "cell_type": "markdown",
   "metadata": {},
   "source": [
    "The transverse field Ising model is given by\n",
    "$$\n",
    "H_\\mathrm{Ising} = - J \\sum_{i=1}^{N-1} Z^{(i)} Z^{(i+1)} + g\\sum_{i=1}^N X^{(i)}\n",
    "$$\n",
    "with interaction strength $J$ and transverse field strength $g$. We can set $g=1$ and $J=1.2$ in the following, but other parameter values can be explored."
   ]
  },
  {
   "cell_type": "code",
<<<<<<< Updated upstream
   "execution_count": 8,
=======
   "execution_count": 9,
>>>>>>> Stashed changes
   "metadata": {},
   "outputs": [],
   "source": [
    "# Ising Hamiltonian\n",
    "def get_ising_chain_hamiltonian(n_qubits: int, J: float, g: float) -> QubitPauliOperator:\n",
    "    sites = nx.path_graph(n_qubits)\n",
    "    qpo_dict = {}\n",
    "    for e in sites.edges:\n",
    "        zz_term = QubitPauliString([Qubit(e[0]), Qubit(e[1])], [Pauli.Z, Pauli.Z])\n",
    "        x_term = QubitPauliString([Qubit(e[0])], [Pauli.X])\n",
    "        qpo_dict[zz_term] = -J\n",
    "        qpo_dict[x_term] = g\n",
    "    x_term = QubitPauliString([Qubit(e[1])], [Pauli.X])\n",
    "    qpo_dict[x_term] = g\n",
    "\n",
    "    return QubitPauliOperator(qpo_dict)"
   ]
  },
  {
   "cell_type": "code",
<<<<<<< Updated upstream
   "execution_count": 9,
=======
   "execution_count": 10,
>>>>>>> Stashed changes
   "metadata": {},
   "outputs": [],
   "source": [
    "n_qubits = 5\n",
    "J = 1.2\n",
    "g = 1\n",
    "\n",
    "ising_ham = get_ising_chain_hamiltonian(n_qubits=n_qubits, J=J, g=g)"
   ]
  },
  {
   "cell_type": "code",
<<<<<<< Updated upstream
   "execution_count": 10,
=======
   "execution_count": 11,
>>>>>>> Stashed changes
   "metadata": {},
   "outputs": [
    {
     "data": {
      "text/plain": [
       "{(Zq[0], Zq[1]): -1.20000000000000,\n",
       " (Xq[0]): 1,\n",
       " (Zq[1], Zq[2]): -1.20000000000000,\n",
       " (Xq[1]): 1,\n",
       " (Zq[2], Zq[3]): -1.20000000000000,\n",
       " (Xq[2]): 1,\n",
       " (Zq[3], Zq[4]): -1.20000000000000,\n",
       " (Xq[3]): 1,\n",
       " (Xq[4]): 1}"
      ]
     },
<<<<<<< Updated upstream
     "execution_count": 10,
=======
     "execution_count": 11,
>>>>>>> Stashed changes
     "metadata": {},
     "output_type": "execute_result"
    }
   ],
   "source": [
    "ising_ham._dict"
   ]
  },
  {
   "cell_type": "code",
<<<<<<< Updated upstream
   "execution_count": 11,
=======
   "execution_count": 12,
>>>>>>> Stashed changes
   "metadata": {},
   "outputs": [],
   "source": [
    "# Non-Trotterized (i.e. incorrect) circuit\n",
    "from pytket.circuit import Circuit\n",
    "from pytket.utils import gen_term_sequence_circuit\n",
    "from pytket.circuit import fresh_symbol\n",
    "import numpy as np\n",
    "\n",
    "empty_circuit = Circuit(n_qubits)\n",
    "ising_circuit = gen_term_sequence_circuit(2 / np.pi * t * ising_ham, empty_circuit)"
   ]
  },
  {
   "cell_type": "code",
<<<<<<< Updated upstream
   "execution_count": 12,
=======
   "execution_count": 13,
>>>>>>> Stashed changes
   "metadata": {},
   "outputs": [
    {
     "data": {
      "text/html": [
       "\n",
       "\n",
       "\n",
       "\n",
       "\n",
       "\n",
       "<div style=\"resize: vertical; overflow: auto; height: 400px; display: block\">\n",
       "    <iframe srcdoc=\"\n",
       "&lt;!DOCTYPE html&gt;\n",
       "&lt;html lang=&#34;en&#34;&gt;\n",
       "&lt;head&gt;\n",
       "    &lt;meta charset=&#34;UTF-8&#34;&gt;\n",
       "    &lt;!-- Download Vue 3--&gt;\n",
       "&lt;script type=&#34;application/javascript&#34; src=&#34;https://cdn.jsdelivr.net/npm/vue@3&#34;&gt;&lt;/script&gt;\n",
       "&lt;!-- Download Circuit Renderer with styles --&gt;\n",
       "&lt;script type=&#34;application/javascript&#34; src=&#34;https://unpkg.com/pytket-circuit-renderer@0.10/dist/pytket-circuit-renderer.umd.js&#34;&gt;&lt;/script&gt;\n",
       "&lt;link rel=&#34;stylesheet&#34; href=&#34;https://unpkg.com/pytket-circuit-renderer@0.10/dist/pytket-circuit-renderer.css&#34;&gt;\n",
       "&lt;/head&gt;\n",
       "&lt;body&gt;\n",
       "\n",
       "\n",
<<<<<<< Updated upstream
       "    &lt;div id=&#34;circuit-display-vue-container-8fe19805-1637-4162-acd5-afcc974de537&#34; class=&#34;pytket-circuit-display-container&#34;&gt;\n",
=======
       "    &lt;div id=&#34;circuit-display-vue-container-85cf4d26-a08d-4605-8063-f90caf573f41&#34; class=&#34;pytket-circuit-display-container&#34;&gt;\n",
>>>>>>> Stashed changes
       "        &lt;div style=&#34;display: none&#34;&gt;\n",
       "            &lt;div id=&#34;circuit-json-to-display&#34;&gt;{&#34;bits&#34;: [], &#34;commands&#34;: [{&#34;args&#34;: [[&#34;q&#34;, [1]], [&#34;q&#34;, [0]]], &#34;op&#34;: {&#34;type&#34;: &#34;CX&#34;}}, {&#34;args&#34;: [[&#34;q&#34;, [0]]], &#34;op&#34;: {&#34;params&#34;: [&#34;-0.763943726841098*t&#34;], &#34;type&#34;: &#34;Rz&#34;}}, {&#34;args&#34;: [[&#34;q&#34;, [1]], [&#34;q&#34;, [0]]], &#34;op&#34;: {&#34;type&#34;: &#34;CX&#34;}}, {&#34;args&#34;: [[&#34;q&#34;, [0]]], &#34;op&#34;: {&#34;type&#34;: &#34;H&#34;}}, {&#34;args&#34;: [[&#34;q&#34;, [2]], [&#34;q&#34;, [1]]], &#34;op&#34;: {&#34;type&#34;: &#34;CX&#34;}}, {&#34;args&#34;: [[&#34;q&#34;, [0]]], &#34;op&#34;: {&#34;params&#34;: [&#34;0.636619772367581*t&#34;], &#34;type&#34;: &#34;Rz&#34;}}, {&#34;args&#34;: [[&#34;q&#34;, [1]]], &#34;op&#34;: {&#34;params&#34;: [&#34;-0.763943726841098*t&#34;], &#34;type&#34;: &#34;Rz&#34;}}, {&#34;args&#34;: [[&#34;q&#34;, [0]]], &#34;op&#34;: {&#34;type&#34;: &#34;H&#34;}}, {&#34;args&#34;: [[&#34;q&#34;, [2]], [&#34;q&#34;, [1]]], &#34;op&#34;: {&#34;type&#34;: &#34;CX&#34;}}, {&#34;args&#34;: [[&#34;q&#34;, [1]]], &#34;op&#34;: {&#34;type&#34;: &#34;H&#34;}}, {&#34;args&#34;: [[&#34;q&#34;, [3]], [&#34;q&#34;, [2]]], &#34;op&#34;: {&#34;type&#34;: &#34;CX&#34;}}, {&#34;args&#34;: [[&#34;q&#34;, [1]]], &#34;op&#34;: {&#34;params&#34;: [&#34;0.636619772367581*t&#34;], &#34;type&#34;: &#34;Rz&#34;}}, {&#34;args&#34;: [[&#34;q&#34;, [2]]], &#34;op&#34;: {&#34;params&#34;: [&#34;-0.763943726841098*t&#34;], &#34;type&#34;: &#34;Rz&#34;}}, {&#34;args&#34;: [[&#34;q&#34;, [1]]], &#34;op&#34;: {&#34;type&#34;: &#34;H&#34;}}, {&#34;args&#34;: [[&#34;q&#34;, [3]], [&#34;q&#34;, [2]]], &#34;op&#34;: {&#34;type&#34;: &#34;CX&#34;}}, {&#34;args&#34;: [[&#34;q&#34;, [2]]], &#34;op&#34;: {&#34;type&#34;: &#34;H&#34;}}, {&#34;args&#34;: [[&#34;q&#34;, [4]], [&#34;q&#34;, [3]]], &#34;op&#34;: {&#34;type&#34;: &#34;CX&#34;}}, {&#34;args&#34;: [[&#34;q&#34;, [2]]], &#34;op&#34;: {&#34;params&#34;: [&#34;0.636619772367581*t&#34;], &#34;type&#34;: &#34;Rz&#34;}}, {&#34;args&#34;: [[&#34;q&#34;, [3]]], &#34;op&#34;: {&#34;params&#34;: [&#34;-0.763943726841098*t&#34;], &#34;type&#34;: &#34;Rz&#34;}}, {&#34;args&#34;: [[&#34;q&#34;, [2]]], &#34;op&#34;: {&#34;type&#34;: &#34;H&#34;}}, {&#34;args&#34;: [[&#34;q&#34;, [4]], [&#34;q&#34;, [3]]], &#34;op&#34;: {&#34;type&#34;: &#34;CX&#34;}}, {&#34;args&#34;: [[&#34;q&#34;, [3]]], &#34;op&#34;: {&#34;type&#34;: &#34;H&#34;}}, {&#34;args&#34;: [[&#34;q&#34;, [4]]], &#34;op&#34;: {&#34;type&#34;: &#34;H&#34;}}, {&#34;args&#34;: [[&#34;q&#34;, [3]]], &#34;op&#34;: {&#34;params&#34;: [&#34;0.636619772367581*t&#34;], &#34;type&#34;: &#34;Rz&#34;}}, {&#34;args&#34;: [[&#34;q&#34;, [4]]], &#34;op&#34;: {&#34;params&#34;: [&#34;0.636619772367581*t&#34;], &#34;type&#34;: &#34;Rz&#34;}}, {&#34;args&#34;: [[&#34;q&#34;, [3]]], &#34;op&#34;: {&#34;type&#34;: &#34;H&#34;}}, {&#34;args&#34;: [[&#34;q&#34;, [4]]], &#34;op&#34;: {&#34;type&#34;: &#34;H&#34;}}], &#34;created_qubits&#34;: [], &#34;discarded_qubits&#34;: [], &#34;implicit_permutation&#34;: [[[&#34;q&#34;, [0]], [&#34;q&#34;, [0]]], [[&#34;q&#34;, [1]], [&#34;q&#34;, [1]]], [[&#34;q&#34;, [2]], [&#34;q&#34;, [2]]], [[&#34;q&#34;, [3]], [&#34;q&#34;, [3]]], [[&#34;q&#34;, [4]], [&#34;q&#34;, [4]]]], &#34;phase&#34;: &#34;0.0&#34;, &#34;qubits&#34;: [[&#34;q&#34;, [0]], [&#34;q&#34;, [1]], [&#34;q&#34;, [2]], [&#34;q&#34;, [3]], [&#34;q&#34;, [4]]]}&lt;/div&gt;\n",
       "        &lt;/div&gt;\n",
       "        &lt;circuit-display-container\n",
       "                :circuit-element-str=&#34;&#39;#circuit-json-to-display&#39;&#34;\n",
       "                :init-render-options=&#34;initRenderOptions&#34;\n",
       "                view-format=&#34;None&#34;\n",
       "        &gt;&lt;/circuit-display-container&gt;\n",
       "    &lt;/div&gt;\n",
       "    &lt;script type=&#34;application/javascript&#34;&gt;\n",
<<<<<<< Updated upstream
       "      const circuitRendererUid = &#34;8fe19805-1637-4162-acd5-afcc974de537&#34;;\n",
=======
       "      const circuitRendererUid = &#34;85cf4d26-a08d-4605-8063-f90caf573f41&#34;;\n",
>>>>>>> Stashed changes
       "      const displayOptions = JSON.parse(&#39;{&#34;zxStyle&#34;: false, &#34;cropParams&#34;: false}&#39;);\n",
       "\n",
       "      // Script to initialise the circuit renderer app\n",
       "\n",
       "const { createApp } = Vue;\n",
       "const circuitDisplayContainer = window[&#34;pytket-circuit-renderer&#34;].default;\n",
       "// Init variables to be shared between circuit display instances\n",
       "if (typeof window.pytketCircuitDisplays === &#34;undefined&#34;) {\n",
       "    window.pytketCircuitDisplays = {};\n",
       "}\n",
       "// Create the root Vue component\n",
       "const app = createApp({\n",
       "    delimiters: [&#39;[[#&#39;, &#39;#]]&#39;],\n",
       "    components: { circuitDisplayContainer },\n",
       "    data () {\n",
       "      return {\n",
       "        initRenderOptions: displayOptions,\n",
       "      }\n",
       "    }\n",
       "})\n",
       "app.config.unwrapInjectedRef = true;\n",
       "app.mount(&#34;#circuit-display-vue-container-&#34;+circuitRendererUid);\n",
       "window.pytketCircuitDisplays[circuitRendererUid] = app;\n",
       "    &lt;/script&gt;\n",
       "\n",
       "\n",
       "\n",
       "&lt;/body&gt;\n",
       "&lt;/html&gt;\n",
       "\"\n",
       "            width=\"100%\" height=\"100%\"\n",
       "            style=\"border: none; outline: none; overflow: auto\"></iframe>\n",
       "</div>\n",
       "\n"
      ],
      "text/plain": [
       "<IPython.core.display.HTML object>"
      ]
     },
     "metadata": {},
     "output_type": "display_data"
    }
   ],
   "source": [
    "from pytket.transform import Transform\n",
    "Transform.DecomposeBoxes().apply(ising_circuit)\n",
    "draw(ising_circuit)"
   ]
  },
  {
   "cell_type": "markdown",
   "metadata": {},
   "source": [
    "### Task 2: Trotter error scaling and higher order Trotterization formulas\n",
    "\n",
    "- Implement first and second order Trotterizations\n",
    "- You can also implement even higher order Trotterizations. Higher-order Trotterization formulas are given e.g. in Eq. (13) and (14) in [3].\n",
    "- Implement the classical simulation of the quantum evolution using e.g. `numpy`. This you will need to quantify the Trotter error. You get the Trotter error by taking the distance between the state vector prepared with the Trotterized circuit, and the state vector prepared with the numerically exact classical numpy method.\n",
    "- Plot the Trotter errors vs number of Trotter steps in a double-log plot\n",
    "\n",
    "\n",
    "Hint:\n",
    "- For example, for two non-commuting operators $A,B$, the second order Trotterization reads [4]\n",
    "$$\n",
    "e^{-i t (A + B)} = e^{-i t A / 2} e^{-i t B} e^{-it A / 2}\n",
    "$$\n",
    "- Use an empty circuit to initialize the time evolution circuit. This means we are starting with the state $\\ket{\\psi} = \\ket{0}^{\\otimes N}$, where all the qubits are in the zero state.\n",
    "- You can also explore other initial states.\n",
    "- To get the state vector of the quantum circuit, you may want to use the backend `AerStateBackend()` (`from pytket.extensions.qiskit import AerStateBackend`).\n",
    "- You can get the matrix representation of a `QubitPauliOperator` with `to_sparse_matrix()` as described above.\n",
    "- The quantum circuit is initialized with the all zero state $\\ket{\\psi} = \\ket{0}^{\\otimes N}$. The corresponding initial vector for the classical numpy simulation is $v = (1, 0, \\dots , 0)\\in \\mathbb{R}^{2^n}$."
   ]
  },
  {
   "cell_type": "markdown",
   "metadata": {},
   "source": [
    "E.g. use.."
   ]
  },
  {
   "cell_type": "code",
   "execution_count": 14,
   "metadata": {},
   "outputs": [],
   "source": [
    "t = 1\n",
    "n_trotter_steps = list(range(1, 202, 20))"
   ]
  },
  {
   "cell_type": "code",
<<<<<<< Updated upstream
   "execution_count": 17,
   "metadata": {},
=======
   "execution_count": 15,
   "metadata": {
    "scrolled": true
   },
>>>>>>> Stashed changes
   "outputs": [],
   "source": [
    "# First order Trotterization circuit\n",
    "def gen_first_order_trotter_circ(pauli_string_ham: QubitPauliOperator, p: int) -> Circuit:\n",
    "    \"\"\"\n",
    "        INPUT\n",
    "            pauli_string_ham: QubitPauliOperator corresonding to the Hamiltonian\n",
    "            p: Trotterization steps\n",
    "        OUTPUT\n",
    "            The first-order Trotterized circuit\n",
    "    \"\"\"\n",
    "    result_circ = Circuit(n_qubits)\n",
    "    for _ in range(p):\n",
    "        result_circ = gen_term_sequence_circuit((2 / np.pi * t) / p * pauli_string_ham , result_circ)\n",
    "\n",
    "    return result_circ"
   ]
  },
  {
   "cell_type": "code",
<<<<<<< Updated upstream
   "execution_count": 15,
=======
   "execution_count": 16,
>>>>>>> Stashed changes
   "metadata": {},
   "outputs": [],
   "source": [
    "# Running exact simulation w/ numpy and scipy\n",
    "from scipy.linalg import expm\n",
    "\n",
    "ising_ham_matrix = ising_ham.to_sparse_matrix(qubits=[Qubit(i) for i in range(n_qubits)]).todense()\n",
    "time_evol_operator = expm(-1j * t * ising_ham_matrix)\n",
    "initial_state = np.zeros(2**n_qubits)\n",
    "initial_state[0] = 1\n",
    "\n",
    "exact_state = np.matmul(time_evol_operator, initial_state)\n",
    "\n"
   ]
  },
  {
   "cell_type": "code",
   "execution_count": 19,
   "metadata": {},
   "outputs": [],
   "source": [
    "# Testing the first order circuit\n",
    "from pytket.extensions.qiskit import AerStateBackend\n",
    "\n",
    "aer_sim = AerStateBackend()\n",
    "\n",
    "errors = []\n",
    "for p in n_trotter_steps:\n",
    "    first_order_circuit = gen_first_order_trotter_circ(ising_ham, p)\n",
    "\n",
    "    compiled_circuit = aer_sim.get_compiled_circuit(first_order_circuit)\n",
    "    first_order_result = aer_sim.run_circuit(compiled_circuit)\n",
    "    first_order_state = first_order_result.get_state()\n",
    "\n",
    "    error = np.linalg.norm(exact_state - first_order_state)\n",
    "    errors.append(error)\n"
   ]
  },
  {
   "cell_type": "code",
<<<<<<< Updated upstream
   "execution_count": 20,
=======
   "execution_count": 17,
>>>>>>> Stashed changes
   "metadata": {},
   "outputs": [
    {
     "data": {
      "text/plain": [
       "Text(0, 0.5, 'error')"
      ]
     },
     "execution_count": 20,
     "metadata": {},
     "output_type": "execute_result"
    },
    {
     "data": {
      "image/png": "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",
      "text/plain": [
       "<Figure size 640x480 with 1 Axes>"
      ]
     },
     "metadata": {},
     "output_type": "display_data"
    }
   ],
   "source": [
    "import matplotlib.pyplot as plt\n",
    "\n",
    "plt.plot(n_trotter_steps, errors)\n",
    "plt.xlabel(\"trotter steps\")\n",
    "plt.ylabel(\"error\")"
   ]
  },
  {
   "cell_type": "markdown",
   "metadata": {},
   "source": [
    "### Task 3: Do the same for the XXZ model\n",
    "\n",
    "What would you expect. Why is there no Trotter error?"
   ]
  },
  {
   "cell_type": "code",
   "execution_count": 22,
   "metadata": {},
   "outputs": [
    {
     "name": "stdout",
     "output_type": "stream",
     "text": [
      "[-0.41614684-0.90929743j  0.        +0.j          0.        +0.j\n",
      "  0.        +0.j          0.        +0.j          0.        +0.j\n",
      "  0.        +0.j          0.        +0.j          0.        +0.j\n",
      "  0.        +0.j          0.        +0.j          0.        +0.j\n",
      "  0.        +0.j          0.        +0.j          0.        +0.j\n",
      "  0.        +0.j          0.        +0.j          0.        +0.j\n",
      "  0.        +0.j          0.        +0.j          0.        +0.j\n",
      "  0.        +0.j          0.        +0.j          0.        +0.j\n",
      "  0.        +0.j          0.        +0.j          0.        +0.j\n",
      "  0.        +0.j          0.        +0.j          0.        +0.j\n",
      "  0.        +0.j          0.        +0.j        ]\n"
     ]
    }
   ],
   "source": [
    "# Running exact simulation w/ numpy and scipy\n",
    "\n",
    "time_evol_operator = expm(-1j * t * xxz_ham_matrix)\n",
    "initial_state = np.ones(2**n_qubits) * \n",
    "initial_state[0] = 1\n",
    "\n",
    "exact_state = np.matmul(time_evol_operator, initial_state)\n",
    "print(exact_state)"
   ]
  },
  {
   "cell_type": "markdown",
   "metadata": {},
   "source": [
    "### Task 4: Influence of noise\n",
    "\n",
    "As a next step, we study the influence of noise. Using Quantinuum noise models, we can simulate the circuit under approximately realistic conditions. We focus on the transverse field Ising model in the following.\n",
    "\n",
    "In general, there will be a trade-off between Trotter error and noise. Smaller Trotter steps will reduce the Trotter error but also increase the circuit complexity, e.g. the number of two-qubit gates. This will generally increase errors coming from the noisy hardware.\n",
    "\n",
    "Explore this trade-off by simulating the Trotter circuit for varied Trotter step sizes and noise parameters."
   ]
  },
  {
   "cell_type": "code",
   "execution_count": null,
   "metadata": {},
   "outputs": [],
   "source": []
  },
  {
   "cell_type": "markdown",
   "metadata": {},
   "source": [
    "### Task 5: Other Hamiltonians\n",
    "\n",
    "You can try to implement other Hamiltonians you can find in the literature."
   ]
  },
  {
   "cell_type": "code",
   "execution_count": null,
   "metadata": {},
   "outputs": [],
   "source": []
  },
  {
   "cell_type": "markdown",
   "metadata": {},
   "source": [
    "## Section 2: Simulating quantum systems\n",
    "\n",
    "In the following we study several physically interesting cases of quantum system dynamics for the XXZ Hamiltonian."
   ]
  },
  {
   "cell_type": "code",
   "execution_count": 18,
   "metadata": {},
   "outputs": [],
   "source": [
    "import numpy as np\n",
    "from matplotlib import pyplot as plt\n",
    "\n",
    "from pytket.utils.expectations import get_operator_expectation_value\n",
    "from pytket.extensions.qiskit import AerBackend\n",
    "import time\n",
    "\n",
    "aer_sim = AerBackend()"
   ]
  },
  {
   "cell_type": "markdown",
   "metadata": {},
   "source": [
    "Let's first define our Hamiltonian again. We focus on the XXZ Heisenberg model here."
   ]
  },
  {
   "cell_type": "code",
   "execution_count": 19,
   "metadata": {},
   "outputs": [
    {
     "name": "stdout",
     "output_type": "stream",
     "text": [
      "{(Zq[0], Zq[1]): 1.72000000000000, (Xq[0], Xq[1]): 1.00000000000000, (Yq[0], Yq[1]): 1.00000000000000, (Zq[1], Zq[2]): 1.72000000000000, (Xq[1], Xq[2]): 1.00000000000000, (Yq[1], Yq[2]): 1.00000000000000, (Zq[2], Zq[3]): 1.72000000000000, (Xq[2], Xq[3]): 1.00000000000000, (Yq[2], Yq[3]): 1.00000000000000, (Zq[3], Zq[4]): 1.72000000000000, (Xq[3], Xq[4]): 1.00000000000000, (Yq[3], Yq[4]): 1.00000000000000}\n"
     ]
    }
   ],
   "source": [
    "n_qubits = 5\n",
    "Delta_ZZ = 1.72\n",
    "\n",
    "xxz_ham = get_xxz_chain_hamiltonian(n_qubits=n_qubits, Delta_ZZ=Delta_ZZ)\n",
    "print(xxz_ham)"
   ]
  },
  {
   "cell_type": "markdown",
   "metadata": {},
   "source": [
    "### Task 1: Energy conservation\n",
    "\n",
    "The expectation value of the Hamiltonian $H$ gives the energy of the system. This energy does not change during unitary time evolution of the system, i.e. if the initial state has energy $E$, the energy of the system will be $E$ for all times.\n",
    "\n",
    "Below we will test how good our Trotterized circuit fulfills energy conservation."
   ]
  },
  {
   "cell_type": "markdown",
   "metadata": {},
   "source": [
    "We start by computing the energy of the initial zero state $\\ket{\\psi} = \\ket{0}^{\\otimes N}$. This is the default initial state if one generates an empty circuit without any further gates. We compute the expectation of $H$ using the `pytket` function `get_operator_expectation_value`. For simulating the (empty) circuit simulation we use the AerBackend and choose 1000 shots. The expectation value of any Hermitian operator is real. Because we are doing numerics, there might be a negligible imaginary part of order machine precision, which we can just discard."
   ]
  },
  {
   "cell_type": "code",
   "execution_count": 20,
   "metadata": {},
   "outputs": [
    {
     "name": "stdout",
     "output_type": "stream",
     "text": [
      "Energy: 6.928000000000001\n"
     ]
    }
   ],
   "source": [
    "n_qubits = 5\n",
    "n_shots = 1000\n",
    "\n",
    "initial_state_circtuit = Circuit(n_qubits=n_qubits, name=\"Initial state\")\n",
    "# draw(initial_state_circtuit)\n",
    "energy = get_operator_expectation_value(initial_state_circtuit, xxz_ham, aer_sim, n_shots=n_shots)\n",
    "print(\"Energy:\", energy.real)"
   ]
  },
  {
   "cell_type": "markdown",
   "metadata": {},
   "source": [
    "Test how the energy is changing if you apply a few simple gates before you compute the expectation value with `get_operator_expectation_value`."
   ]
  },
  {
   "cell_type": "markdown",
   "metadata": {},
   "source": [
    "Next we check if the energy is conserved under system evolution.\n",
    "- Use `t_max = 20`, discretize the interval `[1, t_max]` into several steps, e.g. `times = np.linspace(1, 20, 5)`, and generate the time evolution circuit for each `t` in `times`. You can use e.g. $\\Delta t = 3$.\n",
    "- Use `time_evolution_circ_compiled = aer_sim.get_compiled_circuit(time_evolution_circ, optimisation_level = 2)` to compile and optimize the circuit. Optimization will result in shorter simulation times.\n",
    "- Monitor the number of two-qubit gates of the compiled and uncompiled circuits as you change `t`. You get this number in pytket via `circ.2_qb_gates()`.\n",
    "- Compute the energy expectation at the output of each of those circuits. You can use a smaller number of shots, e.g. `n_shots = 100`, for this.\n",
    "- Plot the obtained energy expectation values against `times`.\n",
    "\n",
    "Hints:\n",
    "- To get two-qubit gate counts of the uncompiled circuit, you will probably need to decompose all boxes with `DecomposeBoxes().apply(time_evolution_circ)` before getting the gate count with `time_evolution_circ.n_2qb_gates()`.\n",
    "- As you will see, the optimization during compilation significantly reduces the two-qubit gate count. This will reduce the time it requires to simulate the circuit classically. Therefore, it is usually a good idea to optimize circuits before running them on either a classical simulator or actual quantum hardware.\n",
    "- You can also monitor the time to compute the expectation values for varied `t`. Plot these timings and the number of two-qubit gates versus `times`.\n",
    "- The energy expectation should roughly be the same for each `t` in `times`, i.e. stay constant."
   ]
  },
  {
   "cell_type": "code",
   "execution_count": 42,
   "metadata": {},
   "outputs": [],
   "source": [
    "t_max = 20\n",
    "n_shots = 1000\n",
    "times = np.linspace(1, t_max, 5)\n",
    "trotter_step_size = 5"
   ]
  },
  {
   "cell_type": "code",
   "execution_count": 44,
   "metadata": {},
   "outputs": [
    {
     "data": {
      "text/plain": [
       "<matplotlib.legend.Legend at 0x7f2ed83c9f00>"
      ]
     },
     "execution_count": 44,
     "metadata": {},
     "output_type": "execute_result"
    },
    {
     "data": {
      "image/png": "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",
      "text/plain": [
       "<Figure size 1000x500 with 3 Axes>"
      ]
     },
     "metadata": {},
     "output_type": "display_data"
    }
   ],
   "source": [
    "import matplotlib.pyplot as plt\n",
    "import time\n",
    "\n",
    "xxz_comp_energy = []\n",
    "xxz_uncomp_energy = []\n",
    "time_comp = []\n",
    "time_uncomp = []\n",
    "uncomp_gates = []\n",
    "comp_gates = []\n",
    "init_circuit = (Circuit(n_qubits)).H(0)\n",
    "\n",
    "aer_sim = AerBackend()\n",
    "for t in times:\n",
    "    xxz_time = ((2/np.pi)*t*xxz_ham)\n",
    "    xxz_t_circuit = gen_term_sequence_circuit(xxz_time, init_circuit)\n",
    "    DecomposeBoxes().apply(xxz_t_circuit)\n",
    "    xxz_t_circuit_compiled = aer_sim.get_compiled_circuit(xxz_t_circuit, optimisation_level=2)\n",
    "\n",
    "    # DecomposeBoxes().apply(xxz_t_circuit_compiled)\n",
    "\n",
    "    uncomp_gates.append(xxz_t_circuit.n_2qb_gates())\n",
    "    comp_gates.append(xxz_t_circuit_compiled.n_2qb_gates())\n",
    "\n",
    "    start_comp = time.time()\n",
    "    xxz_comp_energy.append(get_operator_expectation_value(xxz_t_circuit_compiled, xxz_ham, aer_sim, n_shots=n_shots).real)\n",
    "    end_comp = time.time()\n",
    "    time_comp.append(end_comp-start_comp)\n",
    "\n",
    "    start_uncomp = time.time()\n",
    "    xxz_uncomp_energy.append(get_operator_expectation_value(xxz_t_circuit, xxz_ham, aer_sim, n_shots=n_shots).real)\n",
    "    end_uncomp = time.time()\n",
    "    time_uncomp.append(end_uncomp-start_uncomp)\n",
    "\n",
    "    # print(\"Uncompiled\", xxz_uncomp_energy)\n",
    "    # print(\"Compiled\", xxz_comp_energy)\n",
    "\n",
    "fig, axes = plt.subplots(1, 3, figsize=(10, 5))\n",
    "plt.subplots_adjust(wspace=0.4)\n",
    "\n",
    "axes[0].scatter(times, xxz_comp_energy, label = \"Compiled\")\n",
    "axes[0].scatter(times, xxz_uncomp_energy, label = \"Uncompiled\")\n",
    "axes[0].set_title(\"Energy vs. Time\")\n",
    "axes[0].set_xlabel(\"Time\")\n",
    "axes[0].set_ylabel(\"Energy\")\n",
    "axes[0].legend()\n",
    "\n",
    "axes[1].scatter(times, time_comp, label = \"Compiled\")\n",
    "axes[1].scatter(times, time_uncomp, label = \"Uncompiled\")\n",
    "axes[1].legend()\n",
    "axes[1].set_title(\"Computation Time vs. Time\")\n",
    "axes[1].set_xlabel(\"Time\")\n",
    "axes[1].set_ylabel(\"Computation Time\")\n",
    "axes[1].legend()\n",
    "\n",
    "axes[2].scatter(times, comp_gates, label = \"Compiled\")\n",
    "axes[2].scatter(times, uncomp_gates, label = \"Uncompiled\")\n",
    "axes[2].legend()\n",
    "axes[2].set_title(\"2-Qubit Gates vs. Time\")\n",
    "axes[2].set_xlabel(\"Time\")\n",
    "axes[2].set_ylabel(\"2-Qubit Gates\")\n",
    "axes[2].legend()"
   ]
  },
  {
   "cell_type": "markdown",
   "metadata": {},
   "source": [
    "### Task 2: Influence of noise\n",
    "\n",
    "Study how hardware noise, emulated with e.g. the Quantinuum noise models, affects the results."
   ]
  },
  {
   "cell_type": "code",
   "execution_count": null,
   "metadata": {},
   "outputs": [],
   "source": []
  },
  {
   "cell_type": "markdown",
   "metadata": {},
   "source": [
    "### Task 3: Hamiltonian system dynamics\n",
    "\n",
    "Compute time dependent expectation values for other observable, for example $X^{(i)}$ for one of the qubits $i$, or a correlator $X^{(i)} X^{(j)}$. Would you expect these expectation values to vary in time?"
   ]
  },
  {
   "cell_type": "code",
   "execution_count": null,
   "metadata": {},
   "outputs": [],
   "source": []
  },
  {
   "cell_type": "markdown",
   "metadata": {},
   "source": [
    "### Task 4: Hamiltonian system dynamics\n",
    "\n",
    "Diagonalise the Hamiltonian numerically and obtain two eigenstates with different energies, for example take eigenstates of the two lowest energy levels. Use build-in functionality, such as pytket's `StatePreparationBox` to prepare a uniform superposition $\\ket{\\psi}$ of both states with a quantum circuit.\n",
    "\n",
    "Simulate the time evolution of the expectation value of $Z_i$ (or any other easy observable) with $\\ket{\\psi}$ as initial state, and plot the time evolution. What do you expect? How does the frequency of oscillation relate to the energy levels of the Hamiltonian?"
   ]
  },
  {
   "cell_type": "code",
   "execution_count": null,
   "metadata": {},
   "outputs": [],
   "source": []
  },
  {
   "cell_type": "markdown",
   "metadata": {},
   "source": [
    "### Task 5: Time evolution of the Ising model\n",
    "\n",
    "You can explore the above tasks for the Ising model instead of the XXZ model. Since the Ising model suffers Trotterization error, you might find that this model conserves energy less accurate as the XXZ model."
   ]
  },
  {
   "cell_type": "code",
   "execution_count": 53,
   "metadata": {},
   "outputs": [
    {
     "data": {
      "text/plain": [
       "<matplotlib.legend.Legend at 0x7f2ed3eb62c0>"
      ]
     },
     "execution_count": 53,
     "metadata": {},
     "output_type": "execute_result"
    },
    {
     "data": {
      "image/png": "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",
      "text/plain": [
       "<Figure size 1000x500 with 3 Axes>"
      ]
     },
     "metadata": {},
     "output_type": "display_data"
    }
   ],
   "source": [
    "t_max = 20\n",
    "n_shots = 1000\n",
    "times = np.linspace(1, t_max, 5)\n",
    "trotter_step_size = 2\n",
    "\n",
    "ising_comp_energy = []\n",
    "ising_uncomp_energy = []\n",
    "time_comp_is = []\n",
    "time_uncomp_is = []\n",
    "uncomp_gates_is = []\n",
    "comp_gates_is = []\n",
    "init_circuit_is = (Circuit(n_qubits))\n",
    "\n",
    "\n",
    "\n",
    "for t in times:\n",
    "    aer_sim = AerBackend()\n",
    "\n",
    "    first_order_circuit = Circuit(n_qubits)\n",
    "    for _ in n_trotter_steps:\n",
    "        ising_circuit = gen_term_sequence_circuit((2 / np.pi * t) / len(n_trotter_steps) * ising_ham , first_order_circuit)\n",
    "    DecomposeBoxes().apply(ising_circuit)\n",
    "\n",
    "    compiled_circuit = aer_sim.get_compiled_circuit(ising_circuit, optimisation_level=2)\n",
    "\n",
    "    uncomp_gates_is.append(ising_circuit.n_2qb_gates())\n",
    "    comp_gates_is.append(compiled_circuit.n_2qb_gates())\n",
    "\n",
    "    start_comp_is = time.time()\n",
    "    ising_comp_energy.append(get_operator_expectation_value(compiled_circuit, ising_ham, aer_sim, n_shots=n_shots).real)\n",
    "    end_comp_is = time.time()\n",
    "    time_comp_is.append(end_comp_is-start_comp_is)\n",
    "\n",
    "    start_uncomp_is = time.time()\n",
    "    ising_uncomp_energy.append(get_operator_expectation_value(compiled_circuit, ising_ham, aer_sim, n_shots=n_shots).real)\n",
    "    end_uncomp_is = time.time()\n",
    "    time_uncomp_is.append(end_uncomp_is-start_uncomp_is)\n",
    "\n",
    "    # print(\"Uncompiled\", xxz_uncomp_energy)\n",
    "    # print(\"Compiled\", xxz_comp_energy)\n",
    "\n",
    "fig, axes = plt.subplots(1, 3, figsize=(10, 5))\n",
    "plt.subplots_adjust(wspace=0.4)\n",
    "\n",
    "axes[0].scatter(times, ising_comp_energy, label = \"Compiled\")\n",
    "axes[0].scatter(times, ising_uncomp_energy, label = \"Uncompiled\")\n",
    "axes[0].set_title(\"Energy vs. Time: Ising\")\n",
    "axes[0].set_xlabel(\"Time\")\n",
    "axes[0].set_ylabel(\"Energy\")\n",
    "axes[0].legend()\n",
    "\n",
    "axes[1].scatter(times, time_comp_is, label = \"Compiled\")\n",
    "axes[1].scatter(times, time_uncomp_is, label = \"Uncompiled\")\n",
    "axes[1].legend()\n",
    "axes[1].set_title(\"Computation Time vs. Time: Ising\")\n",
    "axes[1].set_xlabel(\"Time\")\n",
    "axes[1].set_ylabel(\"Computation Time\")\n",
    "axes[1].legend()\n",
    "\n",
    "axes[2].scatter(times, comp_gates_is, label = \"Compiled\")\n",
    "axes[2].scatter(times, uncomp_gates_is, label = \"Uncompiled\")\n",
    "axes[2].legend()\n",
    "axes[2].set_title(\"2-Qubit Gates vs. Time: Ising\")\n",
    "axes[2].set_xlabel(\"Time\")\n",
    "axes[2].set_ylabel(\"2-Qubit Gates\")\n",
    "axes[2].legend()"
   ]
  },
  {
   "cell_type": "code",
   "execution_count": null,
   "metadata": {},
   "outputs": [],
   "source": []
  },
  {
   "cell_type": "code",
   "execution_count": null,
   "metadata": {},
   "outputs": [],
   "source": []
  }
 ],
 "metadata": {
  "kernelspec": {
   "display_name": "Python [conda env:base] *",
   "language": "python",
   "name": "conda-base-py"
  },
  "language_info": {
   "codemirror_mode": {
    "name": "ipython",
    "version": 3
   },
   "file_extension": ".py",
   "mimetype": "text/x-python",
   "name": "python",
   "nbconvert_exporter": "python",
   "pygments_lexer": "ipython3",
   "version": "3.10.11"
  }
 },
 "nbformat": 4,
 "nbformat_minor": 4
}
