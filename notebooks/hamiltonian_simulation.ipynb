{
 "cells": [
  {
   "cell_type": "markdown",
   "metadata": {},
   "source": [
    "# Hamiltonian Simulation\n",
    "\n",
    "In this part of the challenge we study the evolution of closed quantum systems, i.e. systems that are described by a Hamiltonian operator $H$.\n",
    "One important aspect of this is the so-called Trotterization of the time evolution circuit, which we will explain in more detail below.\n",
    "\n",
    "Useful literature:\n",
    "- [1] A. Montanaro, Quantum Computation, Lecture notes, Chapter 7, https://people.maths.bris.ac.uk/~csxam/teaching/qc2020/lecturenotes.pdf \n",
    "- [2] T. Prosen, \"Exact nonequilibrium steady state of a strongly driven open XXZ chain\", arXiv:1106.2978, https://arxiv.org/abs/1106.2978 (2011)\n",
    "- [3] A. M. Childs et al., \"A Theory of Trotter Error\", https://arxiv.org/abs/1912.08854 (2021)\n",
    "- [4] Qiskit Docs, https://docs.quantum.ibm.com/api/qiskit/qiskit.synthesis.SuzukiTrotter\n",
    "- [5] Quantinuum Docs, https://docs.quantinuum.com/h-series/trainings/getting_started/pytket_quantinuum/Quantinuum_native_gate_compilation.html"
   ]
  },
  {
   "cell_type": "code",
   "execution_count": 4,
   "metadata": {},
   "outputs": [
    {
     "name": "stdout",
     "output_type": "stream",
     "text": [
      "Collecting pytket\n",
      "  Downloading pytket-1.39.0-cp312-cp312-macosx_13_0_arm64.whl.metadata (4.7 kB)\n",
      "Collecting sympy>=1.12.1 (from pytket)\n",
      "  Using cached sympy-1.13.3-py3-none-any.whl.metadata (12 kB)\n",
      "Requirement already satisfied: numpy>=1.26.4 in /Library/Frameworks/Python.framework/Versions/3.12/lib/python3.12/site-packages (from pytket) (2.0.2)\n",
      "Collecting lark>=1.1.9 (from pytket)\n",
      "  Downloading lark-1.2.2-py3-none-any.whl.metadata (1.8 kB)\n",
      "Requirement already satisfied: scipy>=1.13.1 in /Library/Frameworks/Python.framework/Versions/3.12/lib/python3.12/site-packages (from pytket) (1.15.0)\n",
      "Collecting networkx>=2.8.8 (from pytket)\n",
      "  Using cached networkx-3.4.2-py3-none-any.whl.metadata (6.3 kB)\n",
      "Collecting graphviz>=0.20.3 (from pytket)\n",
      "  Downloading graphviz-0.20.3-py3-none-any.whl.metadata (12 kB)\n",
      "Collecting jinja2>=3.1.4 (from pytket)\n",
      "  Downloading jinja2-3.1.5-py3-none-any.whl.metadata (2.6 kB)\n",
      "Requirement already satisfied: typing-extensions>=4.12.2 in /Library/Frameworks/Python.framework/Versions/3.12/lib/python3.12/site-packages (from pytket) (4.12.2)\n",
      "Collecting qwasm>=1.0.1 (from pytket)\n",
      "  Downloading qwasm-1.0.1-py3-none-any.whl.metadata (299 bytes)\n",
      "Requirement already satisfied: MarkupSafe>=2.0 in /Library/Frameworks/Python.framework/Versions/3.12/lib/python3.12/site-packages (from jinja2>=3.1.4->pytket) (3.0.2)\n",
      "Requirement already satisfied: setuptools in /Library/Frameworks/Python.framework/Versions/3.12/lib/python3.12/site-packages (from qwasm>=1.0.1->pytket) (75.8.0)\n",
      "Collecting mpmath<1.4,>=1.1.0 (from sympy>=1.12.1->pytket)\n",
      "  Using cached mpmath-1.3.0-py3-none-any.whl.metadata (8.6 kB)\n",
      "Downloading pytket-1.39.0-cp312-cp312-macosx_13_0_arm64.whl (6.3 MB)\n",
      "\u001b[2K   \u001b[90m━━━━━━━━━━━━━━━━━━━━━━━━━━━━━━━━━━━━━━━━\u001b[0m \u001b[32m6.3/6.3 MB\u001b[0m \u001b[31m133.4 kB/s\u001b[0m eta \u001b[36m0:00:00\u001b[0m00:01\u001b[0m00:02\u001b[0m\n",
      "\u001b[?25hDownloading graphviz-0.20.3-py3-none-any.whl (47 kB)\n",
      "\u001b[2K   \u001b[90m━━━━━━━━━━━━━━━━━━━━━━━━━━━━━━━━━━━━━━━━\u001b[0m \u001b[32m47.1/47.1 kB\u001b[0m \u001b[31m182.4 kB/s\u001b[0m eta \u001b[36m0:00:00\u001b[0ma \u001b[36m0:00:01\u001b[0m\n",
      "\u001b[?25hDownloading jinja2-3.1.5-py3-none-any.whl (134 kB)\n",
      "\u001b[2K   \u001b[90m━━━━━━━━━━━━━━━━━━━━━━━━━━━━━━━━━━━━━━━\u001b[0m \u001b[32m134.6/134.6 kB\u001b[0m \u001b[31m104.2 kB/s\u001b[0m eta \u001b[36m0:00:00\u001b[0ma \u001b[36m0:00:01\u001b[0m\n",
      "\u001b[?25hDownloading lark-1.2.2-py3-none-any.whl (111 kB)\n",
      "\u001b[2K   \u001b[90m━━━━━━━━━━━━━━━━━━━━━━━━━━━━━━━━━━━━━━━\u001b[0m \u001b[32m111.0/111.0 kB\u001b[0m \u001b[31m132.9 kB/s\u001b[0m eta \u001b[36m0:00:00\u001b[0ma \u001b[36m0:00:01\u001b[0m\n",
      "\u001b[?25hUsing cached networkx-3.4.2-py3-none-any.whl (1.7 MB)\n",
      "Downloading qwasm-1.0.1-py3-none-any.whl (15 kB)\n",
      "Using cached sympy-1.13.3-py3-none-any.whl (6.2 MB)\n",
      "Using cached mpmath-1.3.0-py3-none-any.whl (536 kB)\n",
      "Installing collected packages: mpmath, sympy, qwasm, networkx, lark, jinja2, graphviz, pytket\n",
      "Successfully installed graphviz-0.20.3 jinja2-3.1.5 lark-1.2.2 mpmath-1.3.0 networkx-3.4.2 pytket-1.39.0 qwasm-1.0.1 sympy-1.13.3\n",
      "\n",
      "\u001b[1m[\u001b[0m\u001b[34;49mnotice\u001b[0m\u001b[1;39;49m]\u001b[0m\u001b[39;49m A new release of pip is available: \u001b[0m\u001b[31;49m24.0\u001b[0m\u001b[39;49m -> \u001b[0m\u001b[32;49m25.0\u001b[0m\n",
      "\u001b[1m[\u001b[0m\u001b[34;49mnotice\u001b[0m\u001b[1;39;49m]\u001b[0m\u001b[39;49m To update, run: \u001b[0m\u001b[32;49mpip3 install --upgrade pip\u001b[0m\n",
      "Note: you may need to restart the kernel to use updated packages.\n"
     ]
    }
   ],
   "source": [
    "pip install pytket\n"
   ]
  },
  {
   "cell_type": "code",
   "execution_count": 5,
   "metadata": {},
   "outputs": [],
   "source": [
    "# configure some visualisations\n",
    "from pytket.circuit.display import get_circuit_renderer\n",
    "\n",
    "circuit_renderer = get_circuit_renderer()\n",
    "\n",
    "circuit_renderer.set_render_options(zx_style=False)\n",
    "circuit_renderer.set_render_options(crop_params=False)\n",
    "circuit_renderer.save_render_options()"
   ]
  },
  {
   "cell_type": "markdown",
   "metadata": {},
   "source": [
    "## Background"
   ]
  },
  {
   "cell_type": "markdown",
   "metadata": {},
   "source": [
    "##### Time evolution\n",
    "\n",
    "Quantum computers offer the potential to speedup simulations of systems in which quantum mechanical effects play a significant role.\n",
    "\n",
    "In quantum mechanics, the evolution of a system is governed by the Hamiltonian $H$. This is a Hermitian operator whose eigenvalues give the energy spectrum of the system. In what follows we will assume that a Hamiltonian can be represented as a ($2^N \\times 2^N$) matrix where $N$ is the number of qubits.\n",
    "\n",
    "The evolution of a pure quantum state is described by the Schrödinger equation\n",
    "\n",
    "$$\n",
    " i \\hbar \\frac{d}{dt} | \\psi(t)\\rangle = H |\\psi(t)\\rangle\n",
    "$$\n",
    "We wet $\\hbar = 1$ in the following.\n",
    "\n",
    "In general $H$ could be time dependent but we will not consider this case for now.\n",
    "\n",
    "\n",
    "It can be shown that the solution to this equation is \n",
    "\n",
    "$$\n",
    "|\\psi(t)\\rangle = e^{-i H t} |\\psi(0)\\rangle = U(t) |\\psi(0)\\rangle\\,, \\quad U(t) := e^{-i H t}\n",
    "$$\n",
    "\n",
    "We call the operator $U(t)$ the unitary time evolution operator.\n",
    "\n",
    "Observe that we are taking the exponential of the Hamiltonian matrix $H$. We can make sense of this using the series expansion of the exponential function.\n",
    "\n",
    "$$\n",
    "e^A = \\sum_{k=0}^\\infty \\frac{A^k}{k!}\\,.\n",
    "$$\n",
    "\n",
    "Now in order to simulate the evolution of a Hamiltonian $H$ on a quantum computer we need to express the time evolution operator in terms of elementary quantum gates.\n",
    "\n",
    "##### Decompososing Hamiltonians into Pauli operators\n",
    "\n",
    "Towards this goal, it is often useful to express $H$ as a linear combination of Pauli strings.\n",
    "$$\n",
    "H = \\sum_{j = 0}^{2^N -1} \\alpha_j P_j\\,, \\quad \\alpha_j \\in \\mathbb{R}\n",
    "$$\n",
    "Here each Pauli string $P_j$ is a tensor product of $N$ Pauli operators\n",
    "$$\n",
    "P_j = \\bigotimes_{j=0}^N \\sigma_j\\,, \\quad \\sigma_j \\in \\{I, X, Y, Z\\} \\,.\n",
    "$$\n",
    "The operators $P_j$ form a basis for all matrices of dimension $(2^N \\times 2^N)$. This means that any $N$ qubit operator can be expressed as a linear combination of Pauli strings $P_j$ with coefficients $\\alpha_j$.\n",
    "\n",
    "The $X, Y \\, \\text{and} \\, Z$ operators have the usual definitions\n",
    "$$\n",
    "X = \n",
    "\\begin{pmatrix}\n",
    "0 & 1 \\\\\n",
    "1 & 0\n",
    "\\end{pmatrix}\\,, \\quad Y = \n",
    "\\begin{pmatrix}\n",
    "0 & -i \\\\\n",
    "i & 0\n",
    "\\end{pmatrix}\\,, \\quad Z = \n",
    "\\begin{pmatrix}\n",
    "1 & 0 \\\\\n",
    "0 & -1\n",
    "\\end{pmatrix}\\,, \\quad\n",
    "I = \n",
    "\\begin{pmatrix}\n",
    "1 & 0 \\\\\n",
    "0 & 1\n",
    "\\end{pmatrix}\n",
    "$$\n",
    "\n",
    "Note that in general the terms of $H$, i.e. the different Pauli strings, do not commute with each other. This means that their commutator\n",
    "$$\n",
    "[P_i , P_j] \\coloneqq P_iP_j - P_jP_i \\neq 0\n",
    "$$\n",
    "is not zero. If for any two operators $A, B$ we have $[A, B] \\coloneqq AB - BA = 0$, both operators \"commute\", i.e. $AB = BA$.\n",
    "For commuting operators $A, B$, we have $e^{-it(A + B)} = e^{-itA}e^{-itB}$, i.e. the exponential factorizes. For Pauli strings $P_i$, each $e^{-itP_i}$ can be directly implemented as a quantum gate (as we see below), thus for Hamiltonians build from commuting Pauli strings, we have a straight-forward recipe to construct the time evolution operator $e^{-itH}$."
   ]
  },
  {
   "cell_type": "markdown",
   "metadata": {},
   "source": [
    "## Example: The XXZ Heisenberg model\n",
    "\n",
    "Now let's consider a concrete example of a Hamiltonian. We can start with the $XXZ$ model.\n",
    "$$\n",
    "H_{XXZ} = \\sum_{k=1}^{N-1} X^{(k)} X^{(k+1)} + Y^{(k)}  Y^{(k+1)} + \\Delta (Z^{(k)} Z^{(k+1)} ) \n",
    "$$\n",
    "with $\\Delta \\in \\mathbb{R}$. Here $A^{(k)} = I \\otimes \\cdots \\otimes I \\otimes A \\otimes I \\otimes \\cdots \\otimes I$, where $A \\in \\lbrace X, Y, Z\\rbrace$ is inserted on the $k$-th position, i.e. it is acting on the $k$-th qubits. Identities $I$ mean that no operations are performed on those qubits.\n",
    "\n",
    "\n",
    "This model describes a chain of $N$ qubits (sometimes also called spins), where each pair of neighboring spins $(i, i+1)$ interacts through the terms $XX$, $YY$ and $ZZ$.\n",
    "\n"
   ]
  },
  {
   "cell_type": "markdown",
   "metadata": {},
   "source": [
    "\n",
    "In the following we give an example how to implement this Hamiltonian in pytket.\n",
    "\n",
    "[See also [2], which will become important for the second part of this challenge on Lindblad simulation. They are using a slightly different form of the Hamiltonian, given below their Eq. (1). Show that this can be recast into the form given above.]"
   ]
  },
  {
   "cell_type": "markdown",
   "metadata": {},
   "source": [
    "With `._dict` we obtain a nice overview of all the Pauli strings $P_i$ and coefficients $\\alpha_i$."
   ]
  },
  {
   "cell_type": "code",
   "execution_count": 6,
   "metadata": {},
   "outputs": [],
   "source": [
    "from pytket.utils import QubitPauliOperator\n",
    "from pytket.pauli import Pauli, QubitPauliString\n",
    "import networkx as nx\n",
    "from pytket.circuit import Qubit\n",
    "\n",
    "def get_xxz_chain_hamiltonian(n_qubits: int, Delta_ZZ: float) -> QubitPauliOperator:\n",
    "    sites = nx.path_graph(n_qubits)\n",
    "    qpo_dict = {}\n",
    "    for e in sites.edges:\n",
    "        zz_term = QubitPauliString([Qubit(e[0]), Qubit(e[1])], [Pauli.Z, Pauli.Z])\n",
    "        xx_term = QubitPauliString([Qubit(e[0]), Qubit(e[1])], [Pauli.X, Pauli.X])\n",
    "        yy_term = QubitPauliString([Qubit(e[0]), Qubit(e[1])], [Pauli.Y, Pauli.Y])\n",
    "        qpo_dict[zz_term] = Delta_ZZ\n",
    "        qpo_dict[xx_term] = 1.0\n",
    "        qpo_dict[yy_term] = 1.0\n",
    "\n",
    "    return QubitPauliOperator(qpo_dict)"
   ]
  },
  {
   "cell_type": "code",
   "execution_count": 7,
   "metadata": {},
   "outputs": [],
   "source": [
    "n_qubits = 5\n",
    "Delta_ZZ = 1.72\n",
    "Delta_ZZ = 0.5\n",
    "\n",
    "xxz_ham = get_xxz_chain_hamiltonian(n_qubits=n_qubits, Delta_ZZ=Delta_ZZ)"
   ]
  },
  {
   "cell_type": "code",
   "execution_count": 8,
   "metadata": {},
   "outputs": [
    {
     "data": {
      "text/plain": [
       "{(Zq[0], Zq[1]): 0.500000000000000,\n",
       " (Xq[0], Xq[1]): 1.00000000000000,\n",
       " (Yq[0], Yq[1]): 1.00000000000000,\n",
       " (Zq[1], Zq[2]): 0.500000000000000,\n",
       " (Xq[1], Xq[2]): 1.00000000000000,\n",
       " (Yq[1], Yq[2]): 1.00000000000000,\n",
       " (Zq[2], Zq[3]): 0.500000000000000,\n",
       " (Xq[2], Xq[3]): 1.00000000000000,\n",
       " (Yq[2], Yq[3]): 1.00000000000000,\n",
       " (Zq[3], Zq[4]): 0.500000000000000,\n",
       " (Xq[3], Xq[4]): 1.00000000000000,\n",
       " (Yq[3], Yq[4]): 1.00000000000000}"
      ]
     },
     "execution_count": 8,
     "metadata": {},
     "output_type": "execute_result"
    }
   ],
   "source": [
    "xxz_ham._dict"
   ]
  },
  {
   "cell_type": "markdown",
   "metadata": {},
   "source": [
    "You can get the numpy or scipy matrix representations of the QubitPauliOperator with "
   ]
  },
  {
   "cell_type": "code",
   "execution_count": 9,
   "metadata": {},
   "outputs": [
    {
     "data": {
      "text/plain": [
       "(32, 32)"
      ]
     },
     "execution_count": 9,
     "metadata": {},
     "output_type": "execute_result"
    }
   ],
   "source": [
    "xxz_ham_matrix = xxz_ham.to_sparse_matrix(qubits=[Qubit(i) for i in range(n_qubits)]).todense()\n",
    "xxz_ham_matrix.shape"
   ]
  },
  {
   "cell_type": "markdown",
   "metadata": {},
   "source": [
    "Now we want to synthesise a circuit to implement the time evolution operator for $H_{XXZ}$\n",
    "$$\n",
    "U(t) = e^{-it \\sum_{k=1}^{N-1} X^{(k)} X^{(k+1)} + Y^{(k)}  Y^{(k+1)} + \\Delta (Z^{(k)} Z^{(k+1)} ) }\n",
    "$$\n",
    "\n",
    "In fact, the different terms in the XXZ Hamiltonian above commute with each other, which means that\n",
    "$$\n",
    "e^{-itH_{XXZ}} = \\prod_{k=1}^{N-1} e^{-it X^{(k)} X^{(k+1)}}  e^{-it Y^{(k)}  Y^{(k+1)}}  e^{-it \\Delta \\big( Z^{(k)} Z^{(k+1)} \\big)} .\n",
    "$$\n",
    "Each of the exponentials can be implemented as a quantum circuit and we obtain the full time evolution circuit by concatenating all of these circuits.\n",
    "\n",
    "First lets look at a circuit which simulates the evolution $e^{-it \\Delta Z^{(1)} Z^{(2)}} $.\n",
    "We can show that the circuit below does the job."
   ]
  },
  {
   "cell_type": "code",
   "execution_count": 10,
   "metadata": {},
   "outputs": [
    {
     "data": {
      "text/html": [
       "\n",
       "\n",
       "\n",
       "\n",
       "\n",
       "\n",
       "<div style=\"resize: vertical; overflow: auto; height: 400px; display: block\">\n",
       "    <iframe srcdoc=\"\n",
       "&lt;!DOCTYPE html&gt;\n",
       "&lt;html lang=&#34;en&#34;&gt;\n",
       "&lt;head&gt;\n",
       "    &lt;meta charset=&#34;UTF-8&#34;&gt;\n",
       "    &lt;!-- Download Vue 3--&gt;\n",
       "&lt;script type=&#34;application/javascript&#34; src=&#34;https://cdn.jsdelivr.net/npm/vue@3&#34;&gt;&lt;/script&gt;\n",
       "&lt;!-- Download Circuit Renderer with styles --&gt;\n",
       "&lt;script type=&#34;application/javascript&#34; src=&#34;https://unpkg.com/pytket-circuit-renderer@0.10/dist/pytket-circuit-renderer.umd.js&#34;&gt;&lt;/script&gt;\n",
       "&lt;link rel=&#34;stylesheet&#34; href=&#34;https://unpkg.com/pytket-circuit-renderer@0.10/dist/pytket-circuit-renderer.css&#34;&gt;\n",
       "&lt;/head&gt;\n",
       "&lt;body&gt;\n",
       "\n",
       "\n",
       "    &lt;div id=&#34;circuit-display-vue-container-2592816a-eebd-4cee-9d64-d7e71da2fc4b&#34; class=&#34;pytket-circuit-display-container&#34;&gt;\n",
       "        &lt;div style=&#34;display: none&#34;&gt;\n",
       "            &lt;div id=&#34;circuit-json-to-display&#34;&gt;{&#34;bits&#34;: [], &#34;commands&#34;: [{&#34;args&#34;: [[&#34;q&#34;, [0]], [&#34;q&#34;, [1]]], &#34;op&#34;: {&#34;type&#34;: &#34;CX&#34;}}, {&#34;args&#34;: [[&#34;q&#34;, [1]]], &#34;op&#34;: {&#34;params&#34;: [&#34;2*t*Delta&#34;], &#34;type&#34;: &#34;Rz&#34;}}, {&#34;args&#34;: [[&#34;q&#34;, [0]], [&#34;q&#34;, [1]]], &#34;op&#34;: {&#34;type&#34;: &#34;CX&#34;}}], &#34;created_qubits&#34;: [], &#34;discarded_qubits&#34;: [], &#34;implicit_permutation&#34;: [[[&#34;q&#34;, [0]], [&#34;q&#34;, [0]]], [[&#34;q&#34;, [1]], [&#34;q&#34;, [1]]]], &#34;phase&#34;: &#34;0.0&#34;, &#34;qubits&#34;: [[&#34;q&#34;, [0]], [&#34;q&#34;, [1]]]}&lt;/div&gt;\n",
       "        &lt;/div&gt;\n",
       "        &lt;circuit-display-container\n",
       "                :circuit-element-str=&#34;&#39;#circuit-json-to-display&#39;&#34;\n",
       "                :init-render-options=&#34;initRenderOptions&#34;\n",
       "                view-format=&#34;None&#34;\n",
       "        &gt;&lt;/circuit-display-container&gt;\n",
       "    &lt;/div&gt;\n",
       "    &lt;script type=&#34;application/javascript&#34;&gt;\n",
       "      const circuitRendererUid = &#34;2592816a-eebd-4cee-9d64-d7e71da2fc4b&#34;;\n",
       "      const displayOptions = JSON.parse(&#39;{}&#39;);\n",
       "\n",
       "      // Script to initialise the circuit renderer app\n",
       "\n",
       "const { createApp } = Vue;\n",
       "const circuitDisplayContainer = window[&#34;pytket-circuit-renderer&#34;].default;\n",
       "// Init variables to be shared between circuit display instances\n",
       "if (typeof window.pytketCircuitDisplays === &#34;undefined&#34;) {\n",
       "    window.pytketCircuitDisplays = {};\n",
       "}\n",
       "// Create the root Vue component\n",
       "const app = createApp({\n",
       "    delimiters: [&#39;[[#&#39;, &#39;#]]&#39;],\n",
       "    components: { circuitDisplayContainer },\n",
       "    data () {\n",
       "      return {\n",
       "        initRenderOptions: displayOptions,\n",
       "      }\n",
       "    }\n",
       "})\n",
       "app.config.unwrapInjectedRef = true;\n",
       "app.mount(&#34;#circuit-display-vue-container-&#34;+circuitRendererUid);\n",
       "window.pytketCircuitDisplays[circuitRendererUid] = app;\n",
       "    &lt;/script&gt;\n",
       "\n",
       "\n",
       "\n",
       "&lt;/body&gt;\n",
       "&lt;/html&gt;\n",
       "\"\n",
       "            width=\"100%\" height=\"100%\"\n",
       "            style=\"border: none; outline: none; overflow: auto\"></iframe>\n",
       "</div>\n",
       "\n"
      ],
      "text/plain": [
       "<IPython.core.display.HTML object>"
      ]
     },
     "metadata": {},
     "output_type": "display_data"
    }
   ],
   "source": [
    "from pytket import Circuit\n",
    "from sympy import symbols\n",
    "from pytket.circuit.display import render_circuit_jupyter as draw\n",
    "\n",
    "delta, t = symbols(\"Delta, t\")\n",
    "\n",
    "circ = Circuit(2)\n",
    "circ.CX(0, 1)\n",
    "circ.Rz(2*delta * t, 1)\n",
    "circ.CX(0, 1)\n",
    "\n",
    "draw(circ)"
   ]
  },
  {
   "cell_type": "markdown",
   "metadata": {},
   "source": [
    "Similarly for a term like $e^{-it \\Delta Z^{(1)} Z^{(2)} Z^{(3)}} $ the three qubit circuit works\n"
   ]
  },
  {
   "cell_type": "code",
   "execution_count": 16,
   "metadata": {},
   "outputs": [
    {
     "data": {
      "text/html": [
       "\n",
       "\n",
       "\n",
       "\n",
       "\n",
       "\n",
       "<div style=\"resize: vertical; overflow: auto; height: 400px; display: block\">\n",
       "    <iframe srcdoc=\"\n",
       "&lt;!DOCTYPE html&gt;\n",
       "&lt;html lang=&#34;en&#34;&gt;\n",
       "&lt;head&gt;\n",
       "    &lt;meta charset=&#34;UTF-8&#34;&gt;\n",
       "    &lt;!-- Download Vue 3--&gt;\n",
       "&lt;script type=&#34;application/javascript&#34; src=&#34;https://cdn.jsdelivr.net/npm/vue@3&#34;&gt;&lt;/script&gt;\n",
       "&lt;!-- Download Circuit Renderer with styles --&gt;\n",
       "&lt;script type=&#34;application/javascript&#34; src=&#34;https://unpkg.com/pytket-circuit-renderer@0.10/dist/pytket-circuit-renderer.umd.js&#34;&gt;&lt;/script&gt;\n",
       "&lt;link rel=&#34;stylesheet&#34; href=&#34;https://unpkg.com/pytket-circuit-renderer@0.10/dist/pytket-circuit-renderer.css&#34;&gt;\n",
       "&lt;/head&gt;\n",
       "&lt;body&gt;\n",
       "\n",
       "\n",
       "    &lt;div id=&#34;circuit-display-vue-container-a9ea04a1-3e49-4479-b571-3d8568a7bb23&#34; class=&#34;pytket-circuit-display-container&#34;&gt;\n",
       "        &lt;div style=&#34;display: none&#34;&gt;\n",
       "            &lt;div id=&#34;circuit-json-to-display&#34;&gt;{&#34;bits&#34;: [], &#34;commands&#34;: [{&#34;args&#34;: [[&#34;q&#34;, [0]], [&#34;q&#34;, [1]]], &#34;op&#34;: {&#34;type&#34;: &#34;CX&#34;}}, {&#34;args&#34;: [[&#34;q&#34;, [1]], [&#34;q&#34;, [2]]], &#34;op&#34;: {&#34;type&#34;: &#34;CX&#34;}}, {&#34;args&#34;: [[&#34;q&#34;, [2]]], &#34;op&#34;: {&#34;params&#34;: [&#34;2*t*Delta&#34;], &#34;type&#34;: &#34;Rz&#34;}}, {&#34;args&#34;: [[&#34;q&#34;, [1]], [&#34;q&#34;, [2]]], &#34;op&#34;: {&#34;type&#34;: &#34;CX&#34;}}, {&#34;args&#34;: [[&#34;q&#34;, [0]], [&#34;q&#34;, [1]]], &#34;op&#34;: {&#34;type&#34;: &#34;CX&#34;}}], &#34;created_qubits&#34;: [], &#34;discarded_qubits&#34;: [], &#34;implicit_permutation&#34;: [[[&#34;q&#34;, [0]], [&#34;q&#34;, [0]]], [[&#34;q&#34;, [1]], [&#34;q&#34;, [1]]], [[&#34;q&#34;, [2]], [&#34;q&#34;, [2]]]], &#34;phase&#34;: &#34;0.0&#34;, &#34;qubits&#34;: [[&#34;q&#34;, [0]], [&#34;q&#34;, [1]], [&#34;q&#34;, [2]]]}&lt;/div&gt;\n",
       "        &lt;/div&gt;\n",
       "        &lt;circuit-display-container\n",
       "                :circuit-element-str=&#34;&#39;#circuit-json-to-display&#39;&#34;\n",
       "                :init-render-options=&#34;initRenderOptions&#34;\n",
       "                view-format=&#34;None&#34;\n",
       "        &gt;&lt;/circuit-display-container&gt;\n",
       "    &lt;/div&gt;\n",
       "    &lt;script type=&#34;application/javascript&#34;&gt;\n",
       "      const circuitRendererUid = &#34;a9ea04a1-3e49-4479-b571-3d8568a7bb23&#34;;\n",
       "      const displayOptions = JSON.parse(&#39;{}&#39;);\n",
       "\n",
       "      // Script to initialise the circuit renderer app\n",
       "\n",
       "const { createApp } = Vue;\n",
       "const circuitDisplayContainer = window[&#34;pytket-circuit-renderer&#34;].default;\n",
       "// Init variables to be shared between circuit display instances\n",
       "if (typeof window.pytketCircuitDisplays === &#34;undefined&#34;) {\n",
       "    window.pytketCircuitDisplays = {};\n",
       "}\n",
       "// Create the root Vue component\n",
       "const app = createApp({\n",
       "    delimiters: [&#39;[[#&#39;, &#39;#]]&#39;],\n",
       "    components: { circuitDisplayContainer },\n",
       "    data () {\n",
       "      return {\n",
       "        initRenderOptions: displayOptions,\n",
       "      }\n",
       "    }\n",
       "})\n",
       "app.config.unwrapInjectedRef = true;\n",
       "app.mount(&#34;#circuit-display-vue-container-&#34;+circuitRendererUid);\n",
       "window.pytketCircuitDisplays[circuitRendererUid] = app;\n",
       "    &lt;/script&gt;\n",
       "\n",
       "\n",
       "\n",
       "&lt;/body&gt;\n",
       "&lt;/html&gt;\n",
       "\"\n",
       "            width=\"100%\" height=\"100%\"\n",
       "            style=\"border: none; outline: none; overflow: auto\"></iframe>\n",
       "</div>\n",
       "\n"
      ],
      "text/plain": [
       "<IPython.core.display.HTML object>"
      ]
     },
     "metadata": {},
     "output_type": "display_data"
    }
   ],
   "source": [
    "circ1 = Circuit(3)\n",
    "circ1.CX(0, 1)\n",
    "circ1.CX(1, 2)\n",
    "circ1.Rz(2*delta * t, 2)\n",
    "circ1.CX(1, 2)\n",
    "circ1.CX(0, 1)\n",
    "\n",
    "draw(circ1)\n"
   ]
  },
  {
   "cell_type": "markdown",
   "metadata": {},
   "source": [
    "Here, $\\mathrm{Rz}$ gate is defined as \n",
    "$$\n",
    "\\mathrm{Rz}(\\alpha) = e^{-\\frac12 i \\pi \\alpha Z} = \\left[\n",
    "    \\begin{array}{cc} e^{-\\frac12 i \\pi\\alpha} & 0 \\\\ 0 & e^{\\frac12 i\n",
    "    \\pi\\alpha} \\end{array} \\right] \\,.\n",
    "$$"
   ]
  },
  {
   "cell_type": "markdown",
   "metadata": {},
   "source": [
    "### Task 1: Implement the time evolution under the XXZ Hamiltonian.\n",
    "\n",
    "We can easily generate the time evolution under the XXZ Hamiltonian via\n",
    "$$\n",
    "e^{-itH_{XXZ}} = \\prod_{k=1}^{N-1} e^{-it X^{(k)}s X^{(k+1)}}  e^{-it Y^{(k)} Y^{(k+1)}}  e^{-it \\Delta \\big( Z^{(k)} Z^{(k+1)} \\big)} .\n",
    "$$\n",
    "\n",
    "For example, we can use pytket's build-in function `gen_term_sequence_circuit`. Note, you will have to multiply the Hamiltonian (a `QubitPauliOperator`) with the evolution time $t$ to perform the correct time evolution.\n",
    "\n",
    "- Implement the time evolution circuit under $H_{XXZ}$ for a given target time $t$.\n",
    "- Draw the circuit. In pytket you might want to use `DecomposeBoxes()` to visualize all the single- and two-qubit gates.\n",
    "- Explore different ways how to implement the circuit (see the hints below).\n",
    "- Use an empty circuit to initialize the time evolution circuit. I.e. our initial state is $\\ket{\\psi} = \\ket{0}^{\\otimes N}$.\n",
    "\n",
    "Hints:\n",
    "- Study the commutator relation between the two terms of $K_i$. What does this imply?\n",
    "- Alternatively, the two qubit gates $e^{-\\alpha X^{(i)} X^{(j)}}$ and $e^{-\\alpha Y^{(i)} Y^{(j)}}$ can be implemented in pytket via `XXPhase` and `YYPhase`.\n",
    "- Or you can also use pytket's `TK2` gate which implements and arbitrary angle SU(4) gate [x]."
   ]
  },
  {
   "cell_type": "code",
   "execution_count": 31,
   "metadata": {},
   "outputs": [
    {
     "data": {
      "text/html": [
       "\n",
       "\n",
       "\n",
       "\n",
       "\n",
       "\n",
       "<div style=\"resize: vertical; overflow: auto; height: 400px; display: block\">\n",
       "    <iframe srcdoc=\"\n",
       "&lt;!DOCTYPE html&gt;\n",
       "&lt;html lang=&#34;en&#34;&gt;\n",
       "&lt;head&gt;\n",
       "    &lt;meta charset=&#34;UTF-8&#34;&gt;\n",
       "    &lt;!-- Download Vue 3--&gt;\n",
       "&lt;script type=&#34;application/javascript&#34; src=&#34;https://cdn.jsdelivr.net/npm/vue@3&#34;&gt;&lt;/script&gt;\n",
       "&lt;!-- Download Circuit Renderer with styles --&gt;\n",
       "&lt;script type=&#34;application/javascript&#34; src=&#34;https://unpkg.com/pytket-circuit-renderer@0.10/dist/pytket-circuit-renderer.umd.js&#34;&gt;&lt;/script&gt;\n",
       "&lt;link rel=&#34;stylesheet&#34; href=&#34;https://unpkg.com/pytket-circuit-renderer@0.10/dist/pytket-circuit-renderer.css&#34;&gt;\n",
       "&lt;/head&gt;\n",
       "&lt;body&gt;\n",
       "\n",
       "\n",
       "    &lt;div id=&#34;circuit-display-vue-container-b36fcecb-72c0-44fa-bce4-0cdd84ae2aaf&#34; class=&#34;pytket-circuit-display-container&#34;&gt;\n",
       "        &lt;div style=&#34;display: none&#34;&gt;\n",
       "            &lt;div id=&#34;circuit-json-to-display&#34;&gt;{&#34;bits&#34;: [], &#34;commands&#34;: [{&#34;args&#34;: [[&#34;q&#34;, [0]], [&#34;q&#34;, [1]]], &#34;op&#34;: {&#34;params&#34;: [&#34;0.636619772367581*t&#34;], &#34;type&#34;: &#34;XXPhase&#34;}}, {&#34;args&#34;: [[&#34;q&#34;, [0]], [&#34;q&#34;, [1]]], &#34;op&#34;: {&#34;params&#34;: [&#34;0.636619772367581*t&#34;], &#34;type&#34;: &#34;YYPhase&#34;}}, {&#34;args&#34;: [[&#34;q&#34;, [0]], [&#34;q&#34;, [1]]], &#34;op&#34;: {&#34;type&#34;: &#34;CX&#34;}}, {&#34;args&#34;: [[&#34;q&#34;, [1]]], &#34;op&#34;: {&#34;params&#34;: [&#34;2*t*Delta&#34;], &#34;type&#34;: &#34;Rz&#34;}}, {&#34;args&#34;: [[&#34;q&#34;, [0]], [&#34;q&#34;, [1]]], &#34;op&#34;: {&#34;type&#34;: &#34;CX&#34;}}, {&#34;args&#34;: [[&#34;q&#34;, [1]], [&#34;q&#34;, [2]]], &#34;op&#34;: {&#34;params&#34;: [&#34;0.636619772367581*t&#34;], &#34;type&#34;: &#34;XXPhase&#34;}}, {&#34;args&#34;: [[&#34;q&#34;, [1]], [&#34;q&#34;, [2]]], &#34;op&#34;: {&#34;params&#34;: [&#34;0.636619772367581*t&#34;], &#34;type&#34;: &#34;YYPhase&#34;}}, {&#34;args&#34;: [[&#34;q&#34;, [1]], [&#34;q&#34;, [2]]], &#34;op&#34;: {&#34;type&#34;: &#34;CX&#34;}}, {&#34;args&#34;: [[&#34;q&#34;, [2]]], &#34;op&#34;: {&#34;params&#34;: [&#34;2*t*Delta&#34;], &#34;type&#34;: &#34;Rz&#34;}}, {&#34;args&#34;: [[&#34;q&#34;, [1]], [&#34;q&#34;, [2]]], &#34;op&#34;: {&#34;type&#34;: &#34;CX&#34;}}, {&#34;args&#34;: [[&#34;q&#34;, [2]], [&#34;q&#34;, [3]]], &#34;op&#34;: {&#34;params&#34;: [&#34;0.636619772367581*t&#34;], &#34;type&#34;: &#34;XXPhase&#34;}}, {&#34;args&#34;: [[&#34;q&#34;, [2]], [&#34;q&#34;, [3]]], &#34;op&#34;: {&#34;params&#34;: [&#34;0.636619772367581*t&#34;], &#34;type&#34;: &#34;YYPhase&#34;}}, {&#34;args&#34;: [[&#34;q&#34;, [2]], [&#34;q&#34;, [3]]], &#34;op&#34;: {&#34;type&#34;: &#34;CX&#34;}}, {&#34;args&#34;: [[&#34;q&#34;, [3]]], &#34;op&#34;: {&#34;params&#34;: [&#34;2*t*Delta&#34;], &#34;type&#34;: &#34;Rz&#34;}}, {&#34;args&#34;: [[&#34;q&#34;, [2]], [&#34;q&#34;, [3]]], &#34;op&#34;: {&#34;type&#34;: &#34;CX&#34;}}], &#34;created_qubits&#34;: [], &#34;discarded_qubits&#34;: [], &#34;implicit_permutation&#34;: [[[&#34;q&#34;, [0]], [&#34;q&#34;, [0]]], [[&#34;q&#34;, [1]], [&#34;q&#34;, [1]]], [[&#34;q&#34;, [2]], [&#34;q&#34;, [2]]], [[&#34;q&#34;, [3]], [&#34;q&#34;, [3]]]], &#34;phase&#34;: &#34;0.0&#34;, &#34;qubits&#34;: [[&#34;q&#34;, [0]], [&#34;q&#34;, [1]], [&#34;q&#34;, [2]], [&#34;q&#34;, [3]]]}&lt;/div&gt;\n",
       "        &lt;/div&gt;\n",
       "        &lt;circuit-display-container\n",
       "                :circuit-element-str=&#34;&#39;#circuit-json-to-display&#39;&#34;\n",
       "                :init-render-options=&#34;initRenderOptions&#34;\n",
       "                view-format=&#34;None&#34;\n",
       "        &gt;&lt;/circuit-display-container&gt;\n",
       "    &lt;/div&gt;\n",
       "    &lt;script type=&#34;application/javascript&#34;&gt;\n",
       "      const circuitRendererUid = &#34;b36fcecb-72c0-44fa-bce4-0cdd84ae2aaf&#34;;\n",
       "      const displayOptions = JSON.parse(&#39;{}&#39;);\n",
       "\n",
       "      // Script to initialise the circuit renderer app\n",
       "\n",
       "const { createApp } = Vue;\n",
       "const circuitDisplayContainer = window[&#34;pytket-circuit-renderer&#34;].default;\n",
       "// Init variables to be shared between circuit display instances\n",
       "if (typeof window.pytketCircuitDisplays === &#34;undefined&#34;) {\n",
       "    window.pytketCircuitDisplays = {};\n",
       "}\n",
       "// Create the root Vue component\n",
       "const app = createApp({\n",
       "    delimiters: [&#39;[[#&#39;, &#39;#]]&#39;],\n",
       "    components: { circuitDisplayContainer },\n",
       "    data () {\n",
       "      return {\n",
       "        initRenderOptions: displayOptions,\n",
       "      }\n",
       "    }\n",
       "})\n",
       "app.config.unwrapInjectedRef = true;\n",
       "app.mount(&#34;#circuit-display-vue-container-&#34;+circuitRendererUid);\n",
       "window.pytketCircuitDisplays[circuitRendererUid] = app;\n",
       "    &lt;/script&gt;\n",
       "\n",
       "\n",
       "\n",
       "&lt;/body&gt;\n",
       "&lt;/html&gt;\n",
       "\"\n",
       "            width=\"100%\" height=\"100%\"\n",
       "            style=\"border: none; outline: none; overflow: auto\"></iframe>\n",
       "</div>\n",
       "\n"
      ],
      "text/plain": [
       "<IPython.core.display.HTML object>"
      ]
     },
     "metadata": {},
     "output_type": "display_data"
    }
   ],
   "source": [
    "from pytket import Circuit\n",
    "from sympy import symbols\n",
    "from pytket.circuit.display import render_circuit_jupyter as draw\n",
    "import numpy as np\n",
    "n=4\n",
    "circ = Circuit(n)\n",
    "delta, t = symbols(\"Delta, t\")\n",
    "\n",
    "for i in range (n-1):\n",
    "    circ.XXPhase(2*t/np.pi,i, i+1)  # Implements e^(-i * alpha * X ⊗ X)\n",
    "    circ.YYPhase(2*t/np.pi,i, i+1)\n",
    "    circ.CX(i, i+1)\n",
    "    circ.Rz(2*delta * t, i+1)\n",
    "    circ.CX(i, i+1)\n",
    "draw(circ)\n",
    "\n",
    "\n"
   ]
  },
  {
   "cell_type": "markdown",
   "metadata": {},
   "source": [
    "## Overview:\n",
    "\n",
    "In the following there are two sections which can be explored independently from each other. The first is about non-commuting Hamiltonians and Trotterization. The second one is about some concrete physical examples of time evolution using quantum circuits for the XXZ Heisenberg model.\n",
    "\n",
    "Each section contains a list of tasks which you can work on. However, you can also get creative and explore other related directions or tasks which might be interesting. After working on those paths, you can of course also try to come up with interesting ideas how to combine concepts from both sections."
   ]
  },
  {
   "cell_type": "markdown",
   "metadata": {},
   "source": [
    "## Section 1: Non-commuting Hamiltonians and Trotterization\n",
    "\n",
    "In this section we investigate the dependence of the Trotter error on the Trotter step size."
   ]
  },
  {
   "cell_type": "markdown",
   "metadata": {},
   "source": [
    "The XXZ Heisenberg model above has only commuting terms. In general this is not the case, and need to be more careful in implementing the time evolution under $H$.\n",
    "\n",
    "Let $A$ and $B$ be square matrices. As discussed above\n",
    "$$\n",
    "[A, B] = AB-BA = 0 \\implies e^{-i(A + B)} = e^{-iA} e^{-iB}\n",
    "$$\n",
    "\n",
    "However if the matrices $A$ and $B$ do not commute then we have an error term to deal with\n",
    "$$\n",
    "||A|| < \\delta\\,, \\quad ||B|| < \\delta \\implies e^{-i(A + B)} = e^{-iA} e^{-iB} + \\mathcal{O}(\\delta^2)\n",
    "$$\n",
    "Here $||.||$ denotes the spectral norm.\n",
    "$$\n",
    "|| A || := \\max_{|\\psi\\rangle \\neq 0} \\frac{||A|\\psi\\rangle ||}{|| \\, |\\psi\\rangle||}\n",
    "$$\n",
    "\n",
    "Now suppose we have a Hamiltonian $H$ expressed as a sum of Hermitian matrices $H_k$.\n",
    "$$\n",
    "H = \\sum_{i=1}^m H_i\n",
    "$$\n",
    "Here, the operators $H_k$ could be the weighted Pauli strings above $H_i = \\alpha_i P_i$.\n",
    "In generalt $[H_i, H_j] \\neq 0$. In this case\n",
    "$$\n",
    "e^{-i H_1 t}e^{-i H_2 t}... e^{-i H_m t} \\neq e^{-i( H_1 + ... H_m) t} \\,.\n",
    "$$\n",
    "However, one can show that for a given target accuracy $\\epsilon$, we can find a (probably large) $p \\in \\mathbb{N}$, such that the distance between both time evolution operators is small,\n",
    "$$\n",
    "|| \\big( e^{-i H_1 t/p}e^{-i H_2 t /p}... e^{-i H_m t/p}\\big)^p - e^{-i( H_1 + ... H_m) t} || \\leq \\epsilon \\,.\n",
    "$$\n",
    "\n",
    "If the $H_i$ are, as assumed above, Pauli strings, we can implement $e^{-i H_1 t/p}e^{-i H_2 t /p}... e^{-i H_m t/p}$ as a quantum circuit and concatenate it $p$ times to obtain a $\\epsilon$-close approximation of the target evolution $e^{-i( H_1 + ... H_m) t}$. The factorization formula $e^{-i H_1 t/p}e^{-i H_2 t /p}... e^{-i H_m t/p}$ is called \"first-order Trotterization\" of $H$. There are higher order Trotterization formulas which are more accurate but also more difficult to implement. We will discuss a few of them below."
   ]
  },
  {
   "cell_type": "markdown",
   "metadata": {},
   "source": [
    "### Task 1: Implement the transverse field Ising model."
   ]
  },
  {
   "cell_type": "markdown",
   "metadata": {},
   "source": [
    "The transverse field Ising model is given by\n",
    "$$\n",
    "H_\\mathrm{Ising} = - J \\sum_{i=1}^{N-1} Z^{(i)} Z^{(i+1)} + g\\sum_{i=1}^N X^{(i)}\n",
    "$$\n",
    "with interaction strength $J$ and transverse field strength $g$. We can set $g=1$ and $J=1.2$ in the following, but other parameter values can be explored."
   ]
  },
  {
   "cell_type": "code",
   "execution_count": 78,
   "metadata": {},
   "outputs": [
    {
     "name": "stdout",
     "output_type": "stream",
     "text": [
      "{(Zq[0], Zq[1]): -1.20000000000000, (Zq[1], Zq[2]): -1.20000000000000, (Zq[2], Zq[3]): -1.20000000000000, (Xq[0]): 1.00000000000000, (Xq[1]): 1.00000000000000, (Xq[2]): 1.00000000000000, (Xq[3]): 1.00000000000000}\n",
      "(16, 16)\n",
      "(16, 16)\n"
     ]
    }
   ],
   "source": [
    "from pytket import Circuit\n",
    "from sympy import symbols\n",
    "from pytket.circuit.display import render_circuit_jupyter as draw\n",
    "import numpy as np\n",
    "from pytket.utils import QubitPauliOperator\n",
    "from pytket.pauli import Pauli, QubitPauliString\n",
    "import networkx as nx\n",
    "from pytket.circuit import Qubit\n",
    "\n",
    "from scipy.linalg import expm\n",
    "\n",
    "def get_Ising_hamiltonian(n_qubits: int, J: float, g:float) -> QubitPauliOperator:\n",
    "    sites = nx.path_graph(n_qubits)\n",
    "    qpo_dict = {}\n",
    "    for e in sites.edges:\n",
    "        zz_term = QubitPauliString([Qubit(e[0]), Qubit(e[1])], [Pauli.Z, Pauli.Z])\n",
    "        qpo_dict[zz_term] = -J\n",
    "    for i in range (n_qubits):\n",
    "        x_term = QubitPauliString([Qubit(i)], [Pauli.X])\n",
    "        qpo_dict[x_term] =g\n",
    "\n",
    "    return QubitPauliOperator(qpo_dict)\n",
    "\n",
    "n_qubits = 4\n",
    "J=1.2\n",
    "g=1.0\n",
    "t=1\n",
    "ising_ham = get_Ising_hamiltonian (n_qubits=n_qubits, J=J, g=g)\n",
    "print (ising_ham._dict)\n",
    "\n",
    "ising_ham_matrix = ising_ham.to_sparse_matrix(qubits=[Qubit(i) for i in range(n_qubits)]).todense()\n",
    "\n",
    "print(ising_ham_matrix.shape)\n",
    "# print (ising_ham_matrix)\n",
    "\n",
    "ising_exp_matrix = expm(-j*t*ising_ham_matrix)\n",
    "print (ising_exp_matrix.shape)\n",
    "\n",
    "\n"
   ]
  },
  {
   "cell_type": "markdown",
   "metadata": {},
   "source": [
    "### Task 2: Trotter error scaling and higher order Trotterization formulas\n",
    "\n",
    "- Implement first and second order Trotterizations\n",
    "- You can also implement even higher order Trotterizations. Higher-order Trotterization formulas are given e.g. in Eq. (13) and (14) in [3].\n",
    "- Implement the classical simulation of the quantum evolution using e.g. `numpy`. This you will need to quantify the Trotter error. You get the Trotter error by taking the distance between the state vector prepared with the Trotterized circuit, and the state vector prepared with the numerically exact classical numpy method.\n",
    "- Plot the Trotter errors vs number of Trotter steps in a double-log plot\n",
    "\n",
    "\n",
    "Hint:\n",
    "- For example, for two non-commuting operators $A,B$, the second order Trotterization reads [4]\n",
    "$$\n",
    "e^{-i t (A + B)} = e^{-i t A / 2} e^{-i t B} e^{-it A / 2}\n",
    "$$\n",
    "- Use an empty circuit to initialize the time evolution circuit. This means we are starting with the state $\\ket{\\psi} = \\ket{0}^{\\otimes N}$, where all the qubits are in the zero state.\n",
    "- You can also explore other initial states.\n",
    "- To get the state vector of the quantum circuit, you may want to use the backend `AerStateBackend()` (`from pytket.extensions.qiskit import AerStateBackend`).\n",
    "- You can get the matrix representation of a `QubitPauliOperator` with `to_sparse_matrix()` as described above.\n",
    "- The quantum circuit is initialized with the all zero state $\\ket{\\psi} = \\ket{0}^{\\otimes N}$. The corresponding initial vector for the classical numpy simulation is $v = (1, 0, \\dots , 0)\\in \\mathbb{R}^{2^n}$."
   ]
  },
  {
   "cell_type": "markdown",
   "metadata": {},
   "source": [
    "E.g. use.."
   ]
  },
  {
   "cell_type": "code",
   "execution_count": 83,
   "metadata": {},
   "outputs": [
    {
     "data": {
      "text/html": [
       "\n",
       "\n",
       "\n",
       "\n",
       "\n",
       "\n",
       "<div style=\"resize: vertical; overflow: auto; height: 400px; display: block\">\n",
       "    <iframe srcdoc=\"\n",
       "&lt;!DOCTYPE html&gt;\n",
       "&lt;html lang=&#34;en&#34;&gt;\n",
       "&lt;head&gt;\n",
       "    &lt;meta charset=&#34;UTF-8&#34;&gt;\n",
       "    &lt;!-- Download Vue 3--&gt;\n",
       "&lt;script type=&#34;application/javascript&#34; src=&#34;https://cdn.jsdelivr.net/npm/vue@3&#34;&gt;&lt;/script&gt;\n",
       "&lt;!-- Download Circuit Renderer with styles --&gt;\n",
       "&lt;script type=&#34;application/javascript&#34; src=&#34;https://unpkg.com/pytket-circuit-renderer@0.10/dist/pytket-circuit-renderer.umd.js&#34;&gt;&lt;/script&gt;\n",
       "&lt;link rel=&#34;stylesheet&#34; href=&#34;https://unpkg.com/pytket-circuit-renderer@0.10/dist/pytket-circuit-renderer.css&#34;&gt;\n",
       "&lt;/head&gt;\n",
       "&lt;body&gt;\n",
       "\n",
       "\n",
       "    &lt;div id=&#34;circuit-display-vue-container-d39edaa7-d964-41f3-b4ac-a457967eff31&#34; class=&#34;pytket-circuit-display-container&#34;&gt;\n",
       "        &lt;div style=&#34;display: none&#34;&gt;\n",
       "            &lt;div id=&#34;circuit-json-to-display&#34;&gt;{&#34;bits&#34;: [], &#34;commands&#34;: [{&#34;args&#34;: [[&#34;q&#34;, [0]], [&#34;q&#34;, [1]]], &#34;op&#34;: {&#34;type&#34;: &#34;CX&#34;}}, {&#34;args&#34;: [[&#34;q&#34;, [1]]], &#34;op&#34;: {&#34;params&#34;: [&#34;-0.254647908947033&#34;], &#34;type&#34;: &#34;Rz&#34;}}, {&#34;args&#34;: [[&#34;q&#34;, [0]], [&#34;q&#34;, [1]]], &#34;op&#34;: {&#34;type&#34;: &#34;CX&#34;}}, {&#34;args&#34;: [[&#34;q&#34;, [0]]], &#34;op&#34;: {&#34;params&#34;: [&#34;0.212206590789194&#34;], &#34;type&#34;: &#34;Rx&#34;}}, {&#34;args&#34;: [[&#34;q&#34;, [1]], [&#34;q&#34;, [2]]], &#34;op&#34;: {&#34;type&#34;: &#34;CX&#34;}}, {&#34;args&#34;: [[&#34;q&#34;, [2]]], &#34;op&#34;: {&#34;params&#34;: [&#34;-0.254647908947033&#34;], &#34;type&#34;: &#34;Rz&#34;}}, {&#34;args&#34;: [[&#34;q&#34;, [1]], [&#34;q&#34;, [2]]], &#34;op&#34;: {&#34;type&#34;: &#34;CX&#34;}}, {&#34;args&#34;: [[&#34;q&#34;, [1]]], &#34;op&#34;: {&#34;params&#34;: [&#34;0.212206590789194&#34;], &#34;type&#34;: &#34;Rx&#34;}}, {&#34;args&#34;: [[&#34;q&#34;, [2]], [&#34;q&#34;, [3]]], &#34;op&#34;: {&#34;type&#34;: &#34;CX&#34;}}, {&#34;args&#34;: [[&#34;q&#34;, [0]], [&#34;q&#34;, [1]]], &#34;op&#34;: {&#34;type&#34;: &#34;CX&#34;}}, {&#34;args&#34;: [[&#34;q&#34;, [3]]], &#34;op&#34;: {&#34;params&#34;: [&#34;-0.254647908947033&#34;], &#34;type&#34;: &#34;Rz&#34;}}, {&#34;args&#34;: [[&#34;q&#34;, [1]]], &#34;op&#34;: {&#34;params&#34;: [&#34;-0.254647908947033&#34;], &#34;type&#34;: &#34;Rz&#34;}}, {&#34;args&#34;: [[&#34;q&#34;, [2]], [&#34;q&#34;, [3]]], &#34;op&#34;: {&#34;type&#34;: &#34;CX&#34;}}, {&#34;args&#34;: [[&#34;q&#34;, [0]], [&#34;q&#34;, [1]]], &#34;op&#34;: {&#34;type&#34;: &#34;CX&#34;}}, {&#34;args&#34;: [[&#34;q&#34;, [2]]], &#34;op&#34;: {&#34;params&#34;: [&#34;0.212206590789194&#34;], &#34;type&#34;: &#34;Rx&#34;}}, {&#34;args&#34;: [[&#34;q&#34;, [3]]], &#34;op&#34;: {&#34;params&#34;: [&#34;0.212206590789194&#34;], &#34;type&#34;: &#34;Rx&#34;}}, {&#34;args&#34;: [[&#34;q&#34;, [0]]], &#34;op&#34;: {&#34;params&#34;: [&#34;0.212206590789194&#34;], &#34;type&#34;: &#34;Rx&#34;}}, {&#34;args&#34;: [[&#34;q&#34;, [1]], [&#34;q&#34;, [2]]], &#34;op&#34;: {&#34;type&#34;: &#34;CX&#34;}}, {&#34;args&#34;: [[&#34;q&#34;, [2]]], &#34;op&#34;: {&#34;params&#34;: [&#34;-0.254647908947033&#34;], &#34;type&#34;: &#34;Rz&#34;}}, {&#34;args&#34;: [[&#34;q&#34;, [1]], [&#34;q&#34;, [2]]], &#34;op&#34;: {&#34;type&#34;: &#34;CX&#34;}}, {&#34;args&#34;: [[&#34;q&#34;, [1]]], &#34;op&#34;: {&#34;params&#34;: [&#34;0.212206590789194&#34;], &#34;type&#34;: &#34;Rx&#34;}}, {&#34;args&#34;: [[&#34;q&#34;, [2]], [&#34;q&#34;, [3]]], &#34;op&#34;: {&#34;type&#34;: &#34;CX&#34;}}, {&#34;args&#34;: [[&#34;q&#34;, [0]], [&#34;q&#34;, [1]]], &#34;op&#34;: {&#34;type&#34;: &#34;CX&#34;}}, {&#34;args&#34;: [[&#34;q&#34;, [3]]], &#34;op&#34;: {&#34;params&#34;: [&#34;-0.254647908947033&#34;], &#34;type&#34;: &#34;Rz&#34;}}, {&#34;args&#34;: [[&#34;q&#34;, [1]]], &#34;op&#34;: {&#34;params&#34;: [&#34;-0.254647908947033&#34;], &#34;type&#34;: &#34;Rz&#34;}}, {&#34;args&#34;: [[&#34;q&#34;, [2]], [&#34;q&#34;, [3]]], &#34;op&#34;: {&#34;type&#34;: &#34;CX&#34;}}, {&#34;args&#34;: [[&#34;q&#34;, [0]], [&#34;q&#34;, [1]]], &#34;op&#34;: {&#34;type&#34;: &#34;CX&#34;}}, {&#34;args&#34;: [[&#34;q&#34;, [2]]], &#34;op&#34;: {&#34;params&#34;: [&#34;0.212206590789194&#34;], &#34;type&#34;: &#34;Rx&#34;}}, {&#34;args&#34;: [[&#34;q&#34;, [3]]], &#34;op&#34;: {&#34;params&#34;: [&#34;0.212206590789194&#34;], &#34;type&#34;: &#34;Rx&#34;}}, {&#34;args&#34;: [[&#34;q&#34;, [0]]], &#34;op&#34;: {&#34;params&#34;: [&#34;0.212206590789194&#34;], &#34;type&#34;: &#34;Rx&#34;}}, {&#34;args&#34;: [[&#34;q&#34;, [1]], [&#34;q&#34;, [2]]], &#34;op&#34;: {&#34;type&#34;: &#34;CX&#34;}}, {&#34;args&#34;: [[&#34;q&#34;, [2]]], &#34;op&#34;: {&#34;params&#34;: [&#34;-0.254647908947033&#34;], &#34;type&#34;: &#34;Rz&#34;}}, {&#34;args&#34;: [[&#34;q&#34;, [1]], [&#34;q&#34;, [2]]], &#34;op&#34;: {&#34;type&#34;: &#34;CX&#34;}}, {&#34;args&#34;: [[&#34;q&#34;, [1]]], &#34;op&#34;: {&#34;params&#34;: [&#34;0.212206590789194&#34;], &#34;type&#34;: &#34;Rx&#34;}}, {&#34;args&#34;: [[&#34;q&#34;, [2]], [&#34;q&#34;, [3]]], &#34;op&#34;: {&#34;type&#34;: &#34;CX&#34;}}, {&#34;args&#34;: [[&#34;q&#34;, [3]]], &#34;op&#34;: {&#34;params&#34;: [&#34;-0.254647908947033&#34;], &#34;type&#34;: &#34;Rz&#34;}}, {&#34;args&#34;: [[&#34;q&#34;, [2]], [&#34;q&#34;, [3]]], &#34;op&#34;: {&#34;type&#34;: &#34;CX&#34;}}, {&#34;args&#34;: [[&#34;q&#34;, [2]]], &#34;op&#34;: {&#34;params&#34;: [&#34;0.212206590789194&#34;], &#34;type&#34;: &#34;Rx&#34;}}, {&#34;args&#34;: [[&#34;q&#34;, [3]]], &#34;op&#34;: {&#34;params&#34;: [&#34;0.212206590789194&#34;], &#34;type&#34;: &#34;Rx&#34;}}], &#34;created_qubits&#34;: [], &#34;discarded_qubits&#34;: [], &#34;implicit_permutation&#34;: [[[&#34;q&#34;, [0]], [&#34;q&#34;, [0]]], [[&#34;q&#34;, [1]], [&#34;q&#34;, [1]]], [[&#34;q&#34;, [2]], [&#34;q&#34;, [2]]], [[&#34;q&#34;, [3]], [&#34;q&#34;, [3]]]], &#34;phase&#34;: &#34;0.0&#34;, &#34;qubits&#34;: [[&#34;q&#34;, [0]], [&#34;q&#34;, [1]], [&#34;q&#34;, [2]], [&#34;q&#34;, [3]]]}&lt;/div&gt;\n",
       "        &lt;/div&gt;\n",
       "        &lt;circuit-display-container\n",
       "                :circuit-element-str=&#34;&#39;#circuit-json-to-display&#39;&#34;\n",
       "                :init-render-options=&#34;initRenderOptions&#34;\n",
       "                view-format=&#34;None&#34;\n",
       "        &gt;&lt;/circuit-display-container&gt;\n",
       "    &lt;/div&gt;\n",
       "    &lt;script type=&#34;application/javascript&#34;&gt;\n",
       "      const circuitRendererUid = &#34;d39edaa7-d964-41f3-b4ac-a457967eff31&#34;;\n",
       "      const displayOptions = JSON.parse(&#39;{}&#39;);\n",
       "\n",
       "      // Script to initialise the circuit renderer app\n",
       "\n",
       "const { createApp } = Vue;\n",
       "const circuitDisplayContainer = window[&#34;pytket-circuit-renderer&#34;].default;\n",
       "// Init variables to be shared between circuit display instances\n",
       "if (typeof window.pytketCircuitDisplays === &#34;undefined&#34;) {\n",
       "    window.pytketCircuitDisplays = {};\n",
       "}\n",
       "// Create the root Vue component\n",
       "const app = createApp({\n",
       "    delimiters: [&#39;[[#&#39;, &#39;#]]&#39;],\n",
       "    components: { circuitDisplayContainer },\n",
       "    data () {\n",
       "      return {\n",
       "        initRenderOptions: displayOptions,\n",
       "      }\n",
       "    }\n",
       "})\n",
       "app.config.unwrapInjectedRef = true;\n",
       "app.mount(&#34;#circuit-display-vue-container-&#34;+circuitRendererUid);\n",
       "window.pytketCircuitDisplays[circuitRendererUid] = app;\n",
       "    &lt;/script&gt;\n",
       "\n",
       "\n",
       "\n",
       "&lt;/body&gt;\n",
       "&lt;/html&gt;\n",
       "\"\n",
       "            width=\"100%\" height=\"100%\"\n",
       "            style=\"border: none; outline: none; overflow: auto\"></iframe>\n",
       "</div>\n",
       "\n"
      ],
      "text/plain": [
       "<IPython.core.display.HTML object>"
      ]
     },
     "metadata": {},
     "output_type": "display_data"
    },
    {
     "name": "stdout",
     "output_type": "stream",
     "text": [
      "[-0.12370508-0.498449j   -0.12126923+0.32101366j -0.03640503+0.05516362j\n",
      "  0.29074163-0.10886486j -0.03640503+0.05516362j  0.02795492+0.0719043j\n",
      " -0.11423202-0.05993728j -0.16874318+0.00370248j -0.12126923+0.32101366j\n",
      "  0.24968178-0.13328999j  0.02795492+0.0719043j  -0.15842504+0.02760852j\n",
      "  0.29074163-0.10886486j -0.15842504+0.02760852j -0.16874318+0.00370248j\n",
      " -0.02077362+0.28539701j]\n",
      "(16,)\n",
      "[1524119.35132988+0.j -650919.26681579+0.j -392625.30920923+0.j\n",
      "  451620.45641473+0.j -392625.30920923+0.j  202244.32583066+0.j\n",
      "  261621.61969552+0.j -435098.76612461+0.j -650919.26681579+0.j\n",
      "  297158.93164312+0.j  202244.32583066+0.j -279119.30918754+0.j\n",
      "  451620.45641473+0.j -279119.30918754+0.j -435098.76612461+0.j\n",
      "  835254.83392105+0.j]\n",
      "(16,)\n"
     ]
    }
   ],
   "source": [
    "from pytket import Circuit\n",
    "from pytket.extensions.qiskit import AerStateBackend\n",
    "\n",
    "from pytket.utils.symbolic import circuit_to_symbolic_unitary\n",
    "from sympy import symbols\n",
    "import numpy as np\n",
    "\n",
    "\n",
    "t = 1\n",
    "n_trotter_steps = list(range(1, 202, 20))\n",
    "\n",
    "\n",
    "#first order approximation\n",
    "n_qubits=4\n",
    "J=1.2\n",
    "p=3\n",
    "g=1\n",
    "circ1 = Circuit(n)\n",
    "for step in range(p):\n",
    "    for i in range (n-1):\n",
    "        circ1.CX(i,i+1)\n",
    "        circ1.Rz(-2 * J * t/(np.pi*p), i+1)\n",
    "        circ1.CX(i, i+1)\n",
    "    for j in range (n):\n",
    "        circ1.Rx(2 * g * t / (np.pi* p), j)  \n",
    "draw(circ1)\n",
    "\n",
    "\n",
    "backend = AerStateBackend()\n",
    "compiled_circ = backend.get_compiled_circuit(circ1)\n",
    "state_vector = backend.run_circuit(circ1).get_state()\n",
    "\n",
    "print(state_vector)\n",
    "print (state_vector.shape)\n",
    "\n",
    "initial_vector= [0 for _ in range (2**n_qubits)]\n",
    "initial_vector[0]=1\n",
    "#classical\n",
    "classical_vector = ising_exp_matrix @ (initial_vector)\n",
    "print (classical_vector)\n",
    "print (classical_vector.shape)"
   ]
  },
  {
   "cell_type": "code",
   "execution_count": 38,
   "metadata": {},
   "outputs": [
    {
     "name": "stdout",
     "output_type": "stream",
     "text": [
      "Requirement already satisfied: pytket in /Library/Frameworks/Python.framework/Versions/3.12/lib/python3.12/site-packages (1.39.0)\n",
      "Collecting pytket-qiskit\n",
      "  Downloading pytket_qiskit-0.63.0-py3-none-any.whl.metadata (4.8 kB)\n",
      "Requirement already satisfied: sympy>=1.12.1 in /Library/Frameworks/Python.framework/Versions/3.12/lib/python3.12/site-packages (from pytket) (1.13.3)\n",
      "Requirement already satisfied: numpy>=1.26.4 in /Library/Frameworks/Python.framework/Versions/3.12/lib/python3.12/site-packages (from pytket) (2.0.2)\n",
      "Requirement already satisfied: lark>=1.1.9 in /Library/Frameworks/Python.framework/Versions/3.12/lib/python3.12/site-packages (from pytket) (1.2.2)\n",
      "Requirement already satisfied: scipy>=1.13.1 in /Library/Frameworks/Python.framework/Versions/3.12/lib/python3.12/site-packages (from pytket) (1.15.0)\n",
      "Requirement already satisfied: networkx>=2.8.8 in /Library/Frameworks/Python.framework/Versions/3.12/lib/python3.12/site-packages (from pytket) (3.4.2)\n",
      "Requirement already satisfied: graphviz>=0.20.3 in /Library/Frameworks/Python.framework/Versions/3.12/lib/python3.12/site-packages (from pytket) (0.20.3)\n",
      "Requirement already satisfied: jinja2>=3.1.4 in /Library/Frameworks/Python.framework/Versions/3.12/lib/python3.12/site-packages (from pytket) (3.1.5)\n",
      "Requirement already satisfied: typing-extensions>=4.12.2 in /Library/Frameworks/Python.framework/Versions/3.12/lib/python3.12/site-packages (from pytket) (4.12.2)\n",
      "Requirement already satisfied: qwasm>=1.0.1 in /Library/Frameworks/Python.framework/Versions/3.12/lib/python3.12/site-packages (from pytket) (1.0.1)\n",
      "Collecting qiskit~=1.3.1 (from pytket-qiskit)\n",
      "  Downloading qiskit-1.3.2-cp39-abi3-macosx_11_0_arm64.whl.metadata (12 kB)\n",
      "Collecting qiskit-ibm-runtime>=0.30.0 (from pytket-qiskit)\n",
      "  Downloading qiskit_ibm_runtime-0.34.0-py3-none-any.whl.metadata (3.0 kB)\n",
      "Collecting qiskit-aer>=0.15.1 (from pytket-qiskit)\n",
      "  Downloading qiskit_aer-0.16.0-cp312-cp312-macosx_11_0_arm64.whl.metadata (8.2 kB)\n",
      "Requirement already satisfied: MarkupSafe>=2.0 in /Library/Frameworks/Python.framework/Versions/3.12/lib/python3.12/site-packages (from jinja2>=3.1.4->pytket) (3.0.2)\n",
      "Collecting rustworkx>=0.15.0 (from qiskit~=1.3.1->pytket-qiskit)\n",
      "  Downloading rustworkx-0.16.0-cp39-abi3-macosx_11_0_arm64.whl.metadata (10 kB)\n",
      "Collecting dill>=0.3 (from qiskit~=1.3.1->pytket-qiskit)\n",
      "  Downloading dill-0.3.9-py3-none-any.whl.metadata (10 kB)\n",
      "Requirement already satisfied: python-dateutil>=2.8.0 in /Users/rodri/Library/Python/3.12/lib/python/site-packages (from qiskit~=1.3.1->pytket-qiskit) (2.9.0.post0)\n",
      "Collecting stevedore>=3.0.0 (from qiskit~=1.3.1->pytket-qiskit)\n",
      "  Downloading stevedore-5.4.0-py3-none-any.whl.metadata (2.3 kB)\n",
      "Collecting symengine<0.14,>=0.11 (from qiskit~=1.3.1->pytket-qiskit)\n",
      "  Downloading symengine-0.13.0-cp312-cp312-macosx_11_0_arm64.whl.metadata (1.2 kB)\n",
      "Requirement already satisfied: psutil>=5 in /Users/rodri/Library/Python/3.12/lib/python/site-packages (from qiskit-aer>=0.15.1->pytket-qiskit) (6.1.1)\n",
      "Requirement already satisfied: requests>=2.19 in /Library/Frameworks/Python.framework/Versions/3.12/lib/python3.12/site-packages (from qiskit-ibm-runtime>=0.30.0->pytket-qiskit) (2.32.3)\n",
      "Collecting requests-ntlm>=1.1.0 (from qiskit-ibm-runtime>=0.30.0->pytket-qiskit)\n",
      "  Downloading requests_ntlm-1.3.0-py3-none-any.whl.metadata (2.4 kB)\n",
      "Requirement already satisfied: urllib3>=1.21.1 in /Library/Frameworks/Python.framework/Versions/3.12/lib/python3.12/site-packages (from qiskit-ibm-runtime>=0.30.0->pytket-qiskit) (2.3.0)\n",
      "Collecting websocket-client>=1.5.1 (from qiskit-ibm-runtime>=0.30.0->pytket-qiskit)\n",
      "  Using cached websocket_client-1.8.0-py3-none-any.whl.metadata (8.0 kB)\n",
      "Collecting ibm-platform-services>=0.22.6 (from qiskit-ibm-runtime>=0.30.0->pytket-qiskit)\n",
      "  Downloading ibm_platform_services-0.59.1-py3-none-any.whl.metadata (9.0 kB)\n",
      "Collecting pydantic<2.10,>=2.5.0 (from qiskit-ibm-runtime>=0.30.0->pytket-qiskit)\n",
      "  Downloading pydantic-2.9.2-py3-none-any.whl.metadata (149 kB)\n",
      "\u001b[2K     \u001b[90m━━━━━━━━━━━━━━━━━━━━━━━━━━━━━━━━━━━━━\u001b[0m \u001b[32m149.4/149.4 kB\u001b[0m \u001b[31m962.4 kB/s\u001b[0m eta \u001b[36m0:00:00\u001b[0ma \u001b[36m0:00:01\u001b[0m\n",
      "\u001b[?25hRequirement already satisfied: setuptools in /Library/Frameworks/Python.framework/Versions/3.12/lib/python3.12/site-packages (from qwasm>=1.0.1->pytket) (75.8.0)\n",
      "Requirement already satisfied: mpmath<1.4,>=1.1.0 in /Library/Frameworks/Python.framework/Versions/3.12/lib/python3.12/site-packages (from sympy>=1.12.1->pytket) (1.3.0)\n",
      "Collecting ibm_cloud_sdk_core<4.0.0,>=3.22.0 (from ibm-platform-services>=0.22.6->qiskit-ibm-runtime>=0.30.0->pytket-qiskit)\n",
      "  Downloading ibm_cloud_sdk_core-3.22.1-py3-none-any.whl.metadata (8.6 kB)\n",
      "Collecting annotated-types>=0.6.0 (from pydantic<2.10,>=2.5.0->qiskit-ibm-runtime>=0.30.0->pytket-qiskit)\n",
      "  Using cached annotated_types-0.7.0-py3-none-any.whl.metadata (15 kB)\n",
      "Collecting pydantic-core==2.23.4 (from pydantic<2.10,>=2.5.0->qiskit-ibm-runtime>=0.30.0->pytket-qiskit)\n",
      "  Downloading pydantic_core-2.23.4-cp312-cp312-macosx_11_0_arm64.whl.metadata (6.6 kB)\n",
      "Requirement already satisfied: six>=1.5 in /Users/rodri/Library/Python/3.12/lib/python/site-packages (from python-dateutil>=2.8.0->qiskit~=1.3.1->pytket-qiskit) (1.17.0)\n",
      "Requirement already satisfied: charset-normalizer<4,>=2 in /Library/Frameworks/Python.framework/Versions/3.12/lib/python3.12/site-packages (from requests>=2.19->qiskit-ibm-runtime>=0.30.0->pytket-qiskit) (3.4.1)\n",
      "Requirement already satisfied: idna<4,>=2.5 in /Library/Frameworks/Python.framework/Versions/3.12/lib/python3.12/site-packages (from requests>=2.19->qiskit-ibm-runtime>=0.30.0->pytket-qiskit) (3.10)\n",
      "Requirement already satisfied: certifi>=2017.4.17 in /Library/Frameworks/Python.framework/Versions/3.12/lib/python3.12/site-packages (from requests>=2.19->qiskit-ibm-runtime>=0.30.0->pytket-qiskit) (2024.12.14)\n",
      "Collecting cryptography>=1.3 (from requests-ntlm>=1.1.0->qiskit-ibm-runtime>=0.30.0->pytket-qiskit)\n",
      "  Downloading cryptography-44.0.0-cp39-abi3-macosx_10_9_universal2.whl.metadata (5.7 kB)\n",
      "Collecting pyspnego>=0.4.0 (from requests-ntlm>=1.1.0->qiskit-ibm-runtime>=0.30.0->pytket-qiskit)\n",
      "  Downloading pyspnego-0.11.2-py3-none-any.whl.metadata (5.4 kB)\n",
      "Collecting pbr>=2.0.0 (from stevedore>=3.0.0->qiskit~=1.3.1->pytket-qiskit)\n",
      "  Downloading pbr-6.1.0-py2.py3-none-any.whl.metadata (3.4 kB)\n",
      "Collecting cffi>=1.12 (from cryptography>=1.3->requests-ntlm>=1.1.0->qiskit-ibm-runtime>=0.30.0->pytket-qiskit)\n",
      "  Downloading cffi-1.17.1-cp312-cp312-macosx_11_0_arm64.whl.metadata (1.5 kB)\n",
      "Collecting PyJWT<3.0.0,>=2.8.0 (from ibm_cloud_sdk_core<4.0.0,>=3.22.0->ibm-platform-services>=0.22.6->qiskit-ibm-runtime>=0.30.0->pytket-qiskit)\n",
      "  Downloading PyJWT-2.10.1-py3-none-any.whl.metadata (4.0 kB)\n",
      "Collecting pycparser (from cffi>=1.12->cryptography>=1.3->requests-ntlm>=1.1.0->qiskit-ibm-runtime>=0.30.0->pytket-qiskit)\n",
      "  Using cached pycparser-2.22-py3-none-any.whl.metadata (943 bytes)\n",
      "Downloading pytket_qiskit-0.63.0-py3-none-any.whl (55 kB)\n",
      "\u001b[2K   \u001b[90m━━━━━━━━━━━━━━━━━━━━━━━━━━━━━━━━━━━━━━━━\u001b[0m \u001b[32m55.9/55.9 kB\u001b[0m \u001b[31m1.8 MB/s\u001b[0m eta \u001b[36m0:00:00\u001b[0m\n",
      "\u001b[?25hDownloading qiskit-1.3.2-cp39-abi3-macosx_11_0_arm64.whl (6.2 MB)\n",
      "\u001b[2K   \u001b[90m━━━━━━━━━━━━━━━━━━━━━━━━━━━━━━━━━━━━━━━━\u001b[0m \u001b[32m6.2/6.2 MB\u001b[0m \u001b[31m1.4 MB/s\u001b[0m eta \u001b[36m0:00:00\u001b[0m00:01\u001b[0m00:01\u001b[0m0m\n",
      "\u001b[?25hDownloading qiskit_aer-0.16.0-cp312-cp312-macosx_11_0_arm64.whl (2.2 MB)\n",
      "\u001b[2K   \u001b[90m━━━━━━━━━━━━━━━━━━━━━━━━━━━━━━━━━━━━━━━━\u001b[0m \u001b[32m2.2/2.2 MB\u001b[0m \u001b[31m2.1 MB/s\u001b[0m eta \u001b[36m0:00:00\u001b[0m00:01\u001b[0m00:01\u001b[0m\n",
      "\u001b[?25hDownloading qiskit_ibm_runtime-0.34.0-py3-none-any.whl (3.0 MB)\n",
      "\u001b[2K   \u001b[90m━━━━━━━━━━━━━━━━━━━━━━━━━━━━━━━━━━━━━━━━\u001b[0m \u001b[32m3.0/3.0 MB\u001b[0m \u001b[31m574.4 kB/s\u001b[0m eta \u001b[36m0:00:00\u001b[0m00:01\u001b[0m00:01\u001b[0m\n",
      "\u001b[?25hDownloading dill-0.3.9-py3-none-any.whl (119 kB)\n",
      "\u001b[2K   \u001b[90m━━━━━━━━━━━━━━━━━━━━━━━━━━━━━━━━━━━━━━━\u001b[0m \u001b[32m119.4/119.4 kB\u001b[0m \u001b[31m107.7 kB/s\u001b[0m eta \u001b[36m0:00:00\u001b[0ma \u001b[36m0:00:01\u001b[0m\n",
      "\u001b[?25hDownloading ibm_platform_services-0.59.1-py3-none-any.whl (340 kB)\n",
      "\u001b[2K   \u001b[90m━━━━━━━━━━━━━━━━━━━━━━━━━━━━━━━━━━━━━━━\u001b[0m \u001b[32m340.8/340.8 kB\u001b[0m \u001b[31m494.5 kB/s\u001b[0m eta \u001b[36m0:00:00\u001b[0ma \u001b[36m0:00:01\u001b[0m\n",
      "\u001b[?25hDownloading pydantic-2.9.2-py3-none-any.whl (434 kB)\n",
      "\u001b[2K   \u001b[90m━━━━━━━━━━━━━━━━━━━━━━━━━━━━━━━━━━━━━━━\u001b[0m \u001b[32m434.9/434.9 kB\u001b[0m \u001b[31m501.1 kB/s\u001b[0m eta \u001b[36m0:00:00\u001b[0ma \u001b[36m0:00:01\u001b[0m\n",
      "\u001b[?25hDownloading pydantic_core-2.23.4-cp312-cp312-macosx_11_0_arm64.whl (1.8 MB)\n",
      "\u001b[2K   \u001b[90m━━━━━━━━━━━━━━━━━━━━━━━━━━━━━━━━━━━━━━━━\u001b[0m \u001b[32m1.8/1.8 MB\u001b[0m \u001b[31m264.7 kB/s\u001b[0m eta \u001b[36m0:00:00\u001b[0m00:01\u001b[0m00:01\u001b[0m\n",
      "\u001b[?25hDownloading requests_ntlm-1.3.0-py3-none-any.whl (6.6 kB)\n",
      "Downloading rustworkx-0.16.0-cp39-abi3-macosx_11_0_arm64.whl (1.9 MB)\n",
      "\u001b[2K   \u001b[90m━━━━━━━━━━━━━━━━━━━━━━━━━━━━━━━━━━━━━━━━\u001b[0m \u001b[32m1.9/1.9 MB\u001b[0m \u001b[31m504.9 kB/s\u001b[0m eta \u001b[36m0:00:00\u001b[0m00:01\u001b[0m00:01\u001b[0m\n",
      "\u001b[?25hDownloading stevedore-5.4.0-py3-none-any.whl (49 kB)\n",
      "\u001b[2K   \u001b[90m━━━━━━━━━━━━━━━━━━━━━━━━━━━━━━━━━━━━━━━━\u001b[0m \u001b[32m49.5/49.5 kB\u001b[0m \u001b[31m549.7 kB/s\u001b[0m eta \u001b[36m0:00:00\u001b[0ma \u001b[36m0:00:01\u001b[0m\n",
      "\u001b[?25hDownloading symengine-0.13.0-cp312-cp312-macosx_11_0_arm64.whl (22.7 MB)\n",
      "\u001b[2K   \u001b[90m━━━━━━━━━━━━━━━━━━━━━━━━━━━━━━━━━━━━━━━━\u001b[0m \u001b[32m22.7/22.7 MB\u001b[0m \u001b[31m2.8 MB/s\u001b[0m eta \u001b[36m0:00:00\u001b[0m00:01\u001b[0m00:01\u001b[0mm\n",
      "\u001b[?25hUsing cached websocket_client-1.8.0-py3-none-any.whl (58 kB)\n",
      "Using cached annotated_types-0.7.0-py3-none-any.whl (13 kB)\n",
      "Downloading cryptography-44.0.0-cp39-abi3-macosx_10_9_universal2.whl (6.5 MB)\n",
      "\u001b[2K   \u001b[90m━━━━━━━━━━━━━━━━━━━━━━━━━━━━━━━━━━━━━━━━\u001b[0m \u001b[32m6.5/6.5 MB\u001b[0m \u001b[31m3.0 MB/s\u001b[0m eta \u001b[36m0:00:00\u001b[0m00:01\u001b[0m00:01\u001b[0m0m\n",
      "\u001b[?25hDownloading ibm_cloud_sdk_core-3.22.1-py3-none-any.whl (69 kB)\n",
      "\u001b[2K   \u001b[90m━━━━━━━━━━━━━━━━━━━━━━━━━━━━━━━━━━━━━━━━\u001b[0m \u001b[32m69.4/69.4 kB\u001b[0m \u001b[31m2.9 MB/s\u001b[0m eta \u001b[36m0:00:00\u001b[0m\n",
      "\u001b[?25hDownloading pbr-6.1.0-py2.py3-none-any.whl (108 kB)\n",
      "\u001b[2K   \u001b[90m━━━━━━━━━━━━━━━━━━━━━━━━━━━━━━━━━━━━━━━━\u001b[0m \u001b[32m108.5/108.5 kB\u001b[0m \u001b[31m4.5 MB/s\u001b[0m eta \u001b[36m0:00:00\u001b[0m\n",
      "\u001b[?25hDownloading pyspnego-0.11.2-py3-none-any.whl (130 kB)\n",
      "\u001b[2K   \u001b[90m━━━━━━━━━━━━━━━━━━━━━━━━━━━━━━━━━━━━━━━━\u001b[0m \u001b[32m130.5/130.5 kB\u001b[0m \u001b[31m3.4 MB/s\u001b[0m eta \u001b[36m0:00:00\u001b[0ma \u001b[36m0:00:01\u001b[0m\n",
      "\u001b[?25hDownloading cffi-1.17.1-cp312-cp312-macosx_11_0_arm64.whl (178 kB)\n",
      "\u001b[2K   \u001b[90m━━━━━━━━━━━━━━━━━━━━━━━━━━━━━━━━━━━━━━━━\u001b[0m \u001b[32m178.8/178.8 kB\u001b[0m \u001b[31m1.0 MB/s\u001b[0m eta \u001b[36m0:00:00\u001b[0mta \u001b[36m0:00:01\u001b[0m\n",
      "\u001b[?25hDownloading PyJWT-2.10.1-py3-none-any.whl (22 kB)\n",
      "Using cached pycparser-2.22-py3-none-any.whl (117 kB)\n",
      "Installing collected packages: websocket-client, symengine, rustworkx, PyJWT, pydantic-core, pycparser, pbr, dill, annotated-types, stevedore, pydantic, ibm_cloud_sdk_core, cffi, qiskit, ibm-platform-services, cryptography, qiskit-aer, pyspnego, requests-ntlm, qiskit-ibm-runtime, pytket-qiskit\n",
      "Successfully installed PyJWT-2.10.1 annotated-types-0.7.0 cffi-1.17.1 cryptography-44.0.0 dill-0.3.9 ibm-platform-services-0.59.1 ibm_cloud_sdk_core-3.22.1 pbr-6.1.0 pycparser-2.22 pydantic-2.9.2 pydantic-core-2.23.4 pyspnego-0.11.2 pytket-qiskit-0.63.0 qiskit-1.3.2 qiskit-aer-0.16.0 qiskit-ibm-runtime-0.34.0 requests-ntlm-1.3.0 rustworkx-0.16.0 stevedore-5.4.0 symengine-0.13.0 websocket-client-1.8.0\n",
      "\n",
      "\u001b[1m[\u001b[0m\u001b[34;49mnotice\u001b[0m\u001b[1;39;49m]\u001b[0m\u001b[39;49m A new release of pip is available: \u001b[0m\u001b[31;49m24.0\u001b[0m\u001b[39;49m -> \u001b[0m\u001b[32;49m25.0\u001b[0m\n",
      "\u001b[1m[\u001b[0m\u001b[34;49mnotice\u001b[0m\u001b[1;39;49m]\u001b[0m\u001b[39;49m To update, run: \u001b[0m\u001b[32;49mpip3 install --upgrade pip\u001b[0m\n",
      "Note: you may need to restart the kernel to use updated packages.\n"
     ]
    }
   ],
   "source": [
    "pip install pytket pytket-qiskit\n"
   ]
  },
  {
   "cell_type": "code",
   "execution_count": null,
   "metadata": {},
   "outputs": [],
   "source": []
  },
  {
   "cell_type": "markdown",
   "metadata": {},
   "source": [
    "### Task 3: Do the same for the XXZ model\n",
    "\n",
    "What would you expect. Why is there no Trotter error?"
   ]
  },
  {
   "cell_type": "code",
   "execution_count": null,
   "metadata": {},
   "outputs": [],
   "source": []
  },
  {
   "cell_type": "markdown",
   "metadata": {},
   "source": [
    "### Task 4: Influence of noise\n",
    "\n",
    "As a next step, we study the influence of noise. Using Quantinuum noise models, we can simulate the circuit under approximately realistic conditions. We focus on the transverse field Ising model in the following.\n",
    "\n",
    "In general, there will be a trade-off between Trotter error and noise. Smaller Trotter steps will reduce the Trotter error but also increase the circuit complexity, e.g. the number of two-qubit gates. This will generally increase errors coming from the noisy hardware.\n",
    "\n",
    "Explore this trade-off by simulating the Trotter circuit for varied Trotter step sizes and noise parameters."
   ]
  },
  {
   "cell_type": "code",
   "execution_count": null,
   "metadata": {},
   "outputs": [],
   "source": []
  },
  {
   "cell_type": "markdown",
   "metadata": {},
   "source": [
    "### Task 5: Other Hamiltonians\n",
    "\n",
    "You can try to implement other Hamiltonians you can find in the literature."
   ]
  },
  {
   "cell_type": "code",
   "execution_count": null,
   "metadata": {},
   "outputs": [],
   "source": []
  },
  {
   "cell_type": "markdown",
   "metadata": {},
   "source": [
    "## Section 2: Simulating quantum systems\n",
    "\n",
    "In the following we study several physically interesting cases of quantum system dynamics for the XXZ Hamiltonian."
   ]
  },
  {
   "cell_type": "code",
   "execution_count": 18,
   "metadata": {},
   "outputs": [],
   "source": [
    "import numpy as np\n",
    "from matplotlib import pyplot as plt\n",
    "\n",
    "from pytket.utils.expectations import get_operator_expectation_value\n",
    "from pytket.extensions.qiskit import AerBackend\n",
    "import time\n",
    "\n",
    "aer_sim = AerBackend()"
   ]
  },
  {
   "cell_type": "markdown",
   "metadata": {},
   "source": [
    "Let's first define our Hamiltonian again. We focus on the XXZ Heisenberg model here."
   ]
  },
  {
   "cell_type": "code",
   "execution_count": 19,
   "metadata": {},
   "outputs": [
    {
     "name": "stdout",
     "output_type": "stream",
     "text": [
      "{(Zq[0], Zq[1]): 1.72000000000000, (Xq[0], Xq[1]): 1.00000000000000, (Yq[0], Yq[1]): 1.00000000000000, (Zq[1], Zq[2]): 1.72000000000000, (Xq[1], Xq[2]): 1.00000000000000, (Yq[1], Yq[2]): 1.00000000000000, (Zq[2], Zq[3]): 1.72000000000000, (Xq[2], Xq[3]): 1.00000000000000, (Yq[2], Yq[3]): 1.00000000000000, (Zq[3], Zq[4]): 1.72000000000000, (Xq[3], Xq[4]): 1.00000000000000, (Yq[3], Yq[4]): 1.00000000000000}\n"
     ]
    }
   ],
   "source": [
    "n_qubits = 5\n",
    "Delta_ZZ = 1.72\n",
    "\n",
    "xxz_ham = get_xxz_chain_hamiltonian(n_qubits=n_qubits, Delta_ZZ=Delta_ZZ)\n",
    "print(xxz_ham)"
   ]
  },
  {
   "cell_type": "code",
   "execution_count": null,
   "metadata": {},
   "outputs": [],
   "source": []
  },
  {
   "cell_type": "markdown",
   "metadata": {},
   "source": [
    "### Task 1: Energy conservation\n",
    "\n",
    "The expectation value of the Hamiltonian $H$ gives the energy of the system. This energy does not change during unitary time evolution of the system, i.e. if the initial state has energy $E$, the energy of the system will be $E$ for all times.\n",
    "\n",
    "Below we will test how good our Trotterized circuit fulfills energy conservation."
   ]
  },
  {
   "cell_type": "markdown",
   "metadata": {},
   "source": [
    "We start by computing the energy of the initial zero state $\\ket{\\psi} = \\ket{0}^{\\otimes N}$. This is the default initial state if one generates an empty circuit without any further gates. We compute the expectation of $H$ using the `pytket` function `get_operator_expectation_value`. For simulating the (empty) circuit simulation we use the AerBackend and choose 1000 shots. The expectation value of any Hermitian operator is real. Because we are doing numerics, there might be a negligible imaginary part of order machine precision, which we can just discard."
   ]
  },
  {
   "cell_type": "code",
   "execution_count": 20,
   "metadata": {},
   "outputs": [
    {
     "name": "stdout",
     "output_type": "stream",
     "text": [
      "Energy: 6.809999999999999\n"
     ]
    }
   ],
   "source": [
    "n_qubits = 5\n",
    "n_shots = 1000\n",
    "\n",
    "initial_state_circtuit = Circuit(n_qubits=n_qubits, name=\"Initial state\")\n",
    "energy = get_operator_expectation_value(initial_state_circtuit, xxz_ham, aer_sim, n_shots=n_shots)\n",
    "print(\"Energy:\", energy.real)"
   ]
  },
  {
   "cell_type": "markdown",
   "metadata": {},
   "source": [
    "Test how the energy is changing if you apply a few simple gates before you compute the expectation value with `get_operator_expectation_value`."
   ]
  },
  {
   "cell_type": "markdown",
   "metadata": {},
   "source": [
    "Next we check if the energy is conserved under system evolution.\n",
    "- Use `t_max = 20`, discretize the interval `[1, t_max]` into several steps, e.g. `times = np.linspace(1, 20, 5)`, and generate the time evolution circuit for each `t` in `times`. You can use e.g. $\\Delta t = 3$.\n",
    "- Use `time_evolution_circ_compiled = aer_sim.get_compiled_circuit(time_evolution_circ, optimisation_level = 2)` to compile and optimize the circuit. Optimization will result in shorter simulation times.\n",
    "- Monitor the number of two-qubit gates of the compiled and uncompiled circuits as you change `t`. You get this number in pytket via `circ.2_qb_gates()`.\n",
    "- Compute the energy expectation at the output of each of those circuits. You can use a smaller number of shots, e.g. `n_shots = 100`, for this.\n",
    "- Plot the obtained energy expectation values against `times`.\n",
    "\n",
    "Hints:\n",
    "- To get two-qubit gate counts of the uncompiled circuit, you will probably need to decompose all boxes with `DecomposeBoxes().apply(time_evolution_circ)` before getting the gate count with `time_evolution_circ.n_2qb_gates()`.\n",
    "- As you will see, the optimization during compilation significantly reduces the two-qubit gate count. This will reduce the time it requires to simulate the circuit classically. Therefore, it is usually a good idea to optimize circuits before running them on either a classical simulator or actual quantum hardware.\n",
    "- You can also monitor the time to compute the expectation values for varied `t`. Plot these timings and the number of two-qubit gates versus `times`.\n",
    "- The energy expectation should roughly be the same for each `t` in `times`, i.e. stay constant."
   ]
  },
  {
   "cell_type": "code",
   "execution_count": 1,
   "metadata": {},
   "outputs": [],
   "source": [
    "t_max = 20\n",
    "n_shots = 100\n",
    "times = np.linspace(1, t_max, 5)\n",
    "trotter_step_size = 3"
   ]
  },
  {
   "cell_type": "code",
   "execution_count": null,
   "metadata": {},
   "outputs": [],
   "source": []
  },
  {
   "cell_type": "markdown",
   "metadata": {},
   "source": [
    "### Task 2: Influence of noise\n",
    "\n",
    "Study how hardware noise, emulated with e.g. the Quantinuum noise models, affects the results."
   ]
  },
  {
   "cell_type": "code",
   "execution_count": null,
   "metadata": {},
   "outputs": [],
   "source": []
  },
  {
   "cell_type": "markdown",
   "metadata": {},
   "source": [
    "### Task 3: Hamiltonian system dynamics\n",
    "\n",
    "Compute time dependent expectation values for other observable, for example $X^{(i)}$ for one of the qubits $i$, or a correlator $X^{(i)} X^{(j)}$. Would you expect these expectation values to vary in time?"
   ]
  },
  {
   "cell_type": "code",
   "execution_count": null,
   "metadata": {},
   "outputs": [],
   "source": []
  },
  {
   "cell_type": "markdown",
   "metadata": {},
   "source": [
    "### Task 4: Hamiltonian system dynamics\n",
    "\n",
    "Diagonalise the Hamiltonian numerically and obtain two eigenstates with different energies, for example take eigenstates of the two lowest energy levels. Use build-in functionality, such as pytket's `StatePreparationBox` to prepare a uniform superposition $\\ket{\\psi}$ of both states with a quantum circuit.\n",
    "\n",
    "Simulate the time evolution of the expectation value of $Z_i$ (or any other easy observable) with $\\ket{\\psi}$ as initial state, and plot the time evolution. What do you expect? How does the frequency of oscillation relate to the energy levels of the Hamiltonian?"
   ]
  },
  {
   "cell_type": "code",
   "execution_count": null,
   "metadata": {},
   "outputs": [],
   "source": []
  },
  {
   "cell_type": "markdown",
   "metadata": {},
   "source": [
    "### Task 5: Time evolution of the Ising model\n",
    "\n",
    "You can explore the above tasks for the Ising model instead of the XXZ model. Since the Ising model suffers Trotterization error, you might find that this model conserves energy less accurate as the XXZ model."
   ]
  },
  {
   "cell_type": "code",
   "execution_count": null,
   "metadata": {},
   "outputs": [],
   "source": []
  },
  {
   "cell_type": "code",
   "execution_count": null,
   "metadata": {},
   "outputs": [],
   "source": []
  },
  {
   "cell_type": "code",
   "execution_count": null,
   "metadata": {},
   "outputs": [],
   "source": []
  }
 ],
 "metadata": {
  "kernelspec": {
   "display_name": ".venv",
   "language": "python",
   "name": "python3"
  },
  "language_info": {
   "codemirror_mode": {
    "name": "ipython",
    "version": 3
   },
   "file_extension": ".py",
   "mimetype": "text/x-python",
   "name": "python",
   "nbconvert_exporter": "python",
   "pygments_lexer": "ipython3",
   "version": "3.12.4"
  }
 },
 "nbformat": 4,
 "nbformat_minor": 2
}
